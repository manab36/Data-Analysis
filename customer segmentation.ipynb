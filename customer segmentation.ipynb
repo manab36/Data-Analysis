{
 "cells": [
  {
   "cell_type": "code",
   "execution_count": null,
   "metadata": {},
   "outputs": [],
   "source": [
    "from include.customer_segmentation_functions import *"
   ]
  },
  {
   "cell_type": "code",
   "execution_count": null,
   "metadata": {},
   "outputs": [],
   "source": [
    "map_source_url= R\"DataSets\\country_map\\ne_10m_admin_0_countries\\ne_10m_admin_0_countries.shp\""
   ]
  },
  {
   "cell_type": "code",
   "execution_count": null,
   "metadata": {},
   "outputs": [],
   "source": [
    "data_file= R\"DataSets\\rfm_ana\\online_retail_II.csv\"\n",
    "main_data= pd.read_csv(data_file,encoding ='cp1252')\n",
    "data= main_data #.sample(10000)"
   ]
  },
  {
   "cell_type": "markdown",
   "metadata": {},
   "source": [
    "<div class=\"alert alert-block alert-success\">\n",
    "To keep the repo and this doc clean, I have kept all the user defined function used in this doc to a different python file(include/customer_segmentation_functions.py).\n",
    "</div>"
   ]
  },
  {
   "cell_type": "markdown",
   "metadata": {},
   "source": [
    "<div class=\"center_header\">\n",
    "\n",
    "# About the data:\n",
    "\n",
    "</div>\n",
    "<p>\n",
    "This Online Retail II data set contains all the transactions occurring for a UK-based and registered, non-store online retail between 01/12/2009 and 09/12/201- The company mainly sells unique all-occasion gift-ware. Many customers of the company are wholesalers.\n",
    "</p>\n",
    "\n",
    "<h5 style=\"margin: 0px; padding: 0px;\">Attribute Information:</h5>\n",
    "<ul>\n",
    "<li>InvoiceNo:</li> Invoice number. Nominal. A 6-digit integral number uniquely assigned to each transaction. If this code starts with the letter 'c', it indicates a cancellation.\n",
    "<li>StockCode:</li> Product (item) code. Nominal. A 5-digit integral number uniquely assigned to each distinct product.\n",
    "<li>Description:</li> Product (item) name. Nominal.\n",
    "<li>Quantity:</li> The quantities of each product (item) per transaction. Numeric.\n",
    "<li>InvoiceDate:</li> Invice date and time. Numeric. The day and time when a transaction was generated.\n",
    "<li>UnitPrice:</li> Unit price. Numeric. Product price per unit in sterling (Â£).\n",
    "<li>CustomerID:</li> Customer number. Nominal. A 5-digit integral number uniquely assigned to each customer.\n",
    "<li>Country:</li> Country name. Nominal. The name of the country where a customer resides\n",
    "</ul>\n",
    "\n",
    "find the dataset here __[here](https://www.kaggle.com/datasets/mashlyn/online-retail-ii-uci/data)__\n",
    "\n",
    "<style>\n",
    "  .center_header {\n",
    "  line-height: 90px;\n",
    "  height: 90px;\n",
    "  border: 5px solid blue;\n",
    "  text-align: center;\n",
    "  font-size: xx-large;\n",
    "  }\n",
    "</style>"
   ]
  },
  {
   "cell_type": "markdown",
   "metadata": {},
   "source": [
    "<div class=\"center_header\">\n",
    "\n",
    "## What is RFM ?\n",
    "\n",
    "</div>\n",
    "\n",
    "### What is Customer Segmentation ?\n",
    "\n",
    "<p>\n",
    "  Customer segmentation is the practice of dividing a company’s customers into groups that reflect similarity among customers in each group. The goal of segmenting customers is to decide how to relate to customers in each segment in order to maximize the value of each customer to the business.<br>\n",
    "</p>\n",
    "\n",
    "__[article link](https://www.optimove.com/resources/learning-center/customer-segmentation)__\n",
    "\n",
    "\n",
    "### Different types of customer segmentation:\n",
    "\n",
    "<ul>\n",
    "<li>Demographic customer segmentation</li>\n",
    "<li>Geographic customer segmentation</li>\n",
    "<li>Behavioral customer segmentation</li>\n",
    "<li>Psychographic customer segmentation</li>\n",
    "<li>Technographic customer segmentation</li>\n",
    "</ul>\n",
    "\n",
    "### What is RFM Segmentation?\n",
    "\n",
    "<p>\n",
    "RFM segmentation is a marketing analysis method that involves analyzing customer behavior based on three key factors: recency, frequency, and monetary value. This RFM analysis helps businesses categorize customers into segments, enabling targeted and personalized marketing strategies.  \n",
    "</p>\n",
    "\n",
    "<ul>\n",
    "<li>Recency:</li> How much time has elapsed since a customer’s last activity or transaction with the brand? Activity is usually a purchase, although variations are sometimes used, e.g., the last visit to a website or use of a mobile app. In most cases, the more recently a customer has interacted or transacted with a brand, the more likely that customer will be responsive to communications from the brand. \n",
    "<li>Frequency:</li> How often has a customer transacted or interacted with the brand during a particular period of time? Clearly, customers with frequent activities are more engaged, and probably more loyal, than customers who rarely do so. And one-time-only customers are in a class of their own. \n",
    "<li>Monetary:</li> Also referred to as “monetary value,” this factor reflects how much a customer has spent with the brand during a particular period of time. Big spenders should usually be treated differently than customers who spend little. Looking at monetary divided by frequency indicates the average purchase amount – an important secondary factor to consider when segmenting customers. \n",
    "</ul>\n",
    "\n",
    "__[article link](https://www.optimove.com/resources/learning-center/rfm-segmentation)__\n",
    "\n",
    "\n",
    "\n",
    "\n",
    "\n",
    "\n",
    "\n",
    "\n",
    "\n",
    "\n",
    "\n",
    "\n",
    "\n",
    "\n",
    "\n",
    "\n",
    "\n",
    "\n",
    "<style>\n",
    "  .center_header {\n",
    "  line-height: 90px;\n",
    "  height: 90px;\n",
    "  border: 5px solid blue;\n",
    "  text-align: center;\n",
    "  font-size: xx-large;\n",
    "  }"
   ]
  },
  {
   "cell_type": "markdown",
   "metadata": {},
   "source": [
    "<div class=\"center_header\">\n",
    "\n",
    "# General view of the dataset:\n",
    "\n",
    "</div>\n",
    "\n",
    "<style>\n",
    "  .center_header {\n",
    "  line-height: 90px;\n",
    "  height: 90px;\n",
    "  border: 5px solid blue;\n",
    "  text-align: center;\n",
    "  font-size: xx-large;\n",
    "  }"
   ]
  },
  {
   "cell_type": "code",
   "execution_count": null,
   "metadata": {},
   "outputs": [],
   "source": [
    "data.sample(3)"
   ]
  },
  {
   "cell_type": "code",
   "execution_count": null,
   "metadata": {},
   "outputs": [],
   "source": [
    "data.info()"
   ]
  },
  {
   "cell_type": "code",
   "execution_count": null,
   "metadata": {},
   "outputs": [],
   "source": [
    "data.describe(include=\"all\").T"
   ]
  },
  {
   "cell_type": "markdown",
   "metadata": {},
   "source": [
    "<div class=\"center_header\">\n",
    "\n",
    "# Data Preprocessing:\n",
    "\n",
    "</div>\n",
    "<p>\n",
    "\n",
    "`Which involves few steps eg: Data Cleaning, Data Transformation, Data Reduction, etc`\n",
    "\n",
    "</p>\n",
    "<style>\n",
    "  .center_header {\n",
    "  line-height: 90px;\n",
    "  height: 90px;\n",
    "  border: 5px solid blue;\n",
    "  text-align: center;\n",
    "  font-size: xx-large;\n",
    "  }"
   ]
  },
  {
   "cell_type": "code",
   "execution_count": null,
   "metadata": {},
   "outputs": [],
   "source": [
    "#cahnging col name\n",
    "data.rename(columns = {x:x.lower().replace(' ','') for x in data.columns}, inplace = True)\n",
    "\n",
    "#change datatype\n",
    "data['quantity'] = pd.to_numeric(data['quantity'])\n",
    "data['price'] = pd.to_numeric(data['price'])\n",
    "data[\"invoicedate\"]=pd.to_datetime(data[\"invoicedate\"])\n",
    "\n",
    "#removing extra white spaces\n",
    "data[\"description\"]= data[\"description\"].str.strip()\n",
    "data.sample(3)"
   ]
  },
  {
   "cell_type": "markdown",
   "metadata": {},
   "source": [
    "<div class=\"alert alert-block alert-info\", style= \"width: 65%;\">\n",
    "\n",
    "### Checking for null(NaN) values in the dataset:\n",
    "</div>"
   ]
  },
  {
   "cell_type": "code",
   "execution_count": null,
   "metadata": {},
   "outputs": [],
   "source": [
    "for col_name in [\"stockcode\", \"description\", \"quantity\", \"price\", \"customerid\"]:\n",
    "    get_value_counts(data, col_name)"
   ]
  },
  {
   "cell_type": "markdown",
   "metadata": {},
   "source": [
    "<div class=\"alert alert-block alert-info\", style= \"width: 65%;\">\n",
    "\n",
    "### Removing rows with NaN values and cancelled items.<br>The invoice code, starting with 'C' were cancalled.\n",
    "</div>"
   ]
  },
  {
   "cell_type": "code",
   "execution_count": null,
   "metadata": {},
   "outputs": [],
   "source": [
    "data= drop_nun_val_in_col(data, \"customerid\")\n",
    "data= drop_canceled_items(data)"
   ]
  },
  {
   "cell_type": "code",
   "execution_count": null,
   "metadata": {},
   "outputs": [],
   "source": [
    "data['customerid']= data['customerid'].astype(np.int64).astype(\"string\")\n",
    "data['quantity']= data['quantity'].astype(np.int64)\n",
    "data[\"invoicetime\"]= data[\"invoicedate\"].dt.time\n",
    "data[\"invoicedate\"]= data[\"invoicedate\"].dt.date"
   ]
  },
  {
   "cell_type": "code",
   "execution_count": null,
   "metadata": {},
   "outputs": [],
   "source": [
    "print(data[data[\"price\"]<0][\"price\"].count())\n",
    "print(data[data[\"quantity\"]<0][\"quantity\"].count())"
   ]
  },
  {
   "cell_type": "markdown",
   "metadata": {},
   "source": [
    "<div class=\"alert alert-block alert-info\", style= \"width: 65%;\">\n",
    "\n",
    "### We can ignore the products which have no price (that is =0.0).<br> Also removing duplicate entries.\n",
    "</div>"
   ]
  },
  {
   "cell_type": "code",
   "execution_count": null,
   "metadata": {},
   "outputs": [],
   "source": [
    "print(f\"before cleaning 0 price iteams:\\n{data[data[\"price\"] ==0]}\")\n",
    "data= data[data[\"price\"] !=0.0]"
   ]
  },
  {
   "cell_type": "code",
   "execution_count": null,
   "metadata": {},
   "outputs": [],
   "source": [
    "print(f\"row count before removing duplicates:{len(data)}\")\n",
    "data.drop_duplicates(inplace= True)\n",
    "print(f\" row count after removing duplicates:{len(data)}\")"
   ]
  },
  {
   "cell_type": "markdown",
   "metadata": {},
   "source": [
    "<div class=\"alert alert-block alert-info\", style= \"width: 65%;\">\n",
    "\n",
    "### Removing outliers in Unit price and Quantity\n",
    "</div>\n",
    "\n",
    "<i> For calculating upper and lower bound we took 5 percentile as Q1 and 95 percentile as Q3 </i>"
   ]
  },
  {
   "cell_type": "code",
   "execution_count": null,
   "metadata": {},
   "outputs": [],
   "source": [
    "data[[\"quantity\", \"price\"]].describe().T"
   ]
  },
  {
   "cell_type": "code",
   "execution_count": null,
   "metadata": {},
   "outputs": [],
   "source": [
    "new_df= outlier_remover(data, \"price\")\n",
    "new_df= outlier_remover(new_df, \"quantity\")"
   ]
  },
  {
   "cell_type": "code",
   "execution_count": null,
   "metadata": {},
   "outputs": [],
   "source": [
    "data= new_df\n",
    "data[[\"quantity\", \"price\"]].describe().T"
   ]
  },
  {
   "cell_type": "markdown",
   "metadata": {},
   "source": [
    "<div class=\"center_header\">\n",
    "\n",
    "# Exploratory data analysis (EDA):\n",
    "\n",
    "</div>\n",
    "<style>\n",
    "  .center_header {\n",
    "  line-height: 90px;\n",
    "  height: 90px;\n",
    "  border: 5px solid blue;\n",
    "  text-align: center;\n",
    "  font-size: xx-large;\n",
    "  }"
   ]
  },
  {
   "cell_type": "markdown",
   "metadata": {},
   "source": [
    "<div class=\"alert alert-block alert-info\", style= \"width: 65%;\">\n",
    "\n",
    "### checking stockcode and description relationships\n",
    "</div>"
   ]
  },
  {
   "cell_type": "code",
   "execution_count": null,
   "metadata": {},
   "outputs": [],
   "source": [
    "check_relationship_type(data, \"stockcode\", \"description\")"
   ]
  },
  {
   "cell_type": "code",
   "execution_count": 18,
   "metadata": {},
   "outputs": [
    {
     "name": "stderr",
     "output_type": "stream",
     "text": [
      " 25%|██▌       | 1318/5178 [01:23<03:51, 16.65it/s]"
     ]
    }
   ],
   "source": [
    "descr= recheck_relationship_type(data, \"description\", \"stockcode\")\n",
    "stockc= recheck_relationship_type(data, \"stockcode\", \"description\")"
   ]
  },
  {
   "cell_type": "code",
   "execution_count": null,
   "metadata": {},
   "outputs": [],
   "source": [
    "print(len(stockc))\n",
    "for val in random.sample(stockc, 5):\n",
    "    print(f\"{val}: {data[data[\"stockcode\"]==val][\"description\"].unique()}\")"
   ]
  },
  {
   "cell_type": "code",
   "execution_count": null,
   "metadata": {},
   "outputs": [],
   "source": [
    "print(len(descr))\n",
    "for val in random.sample(descr, 5):\n",
    "    print(f\"{val}: {data[data[\"description\"]==val][\"stockcode\"].unique()}\")"
   ]
  },
  {
   "cell_type": "code",
   "execution_count": null,
   "metadata": {},
   "outputs": [],
   "source": [
    "data.drop(columns=['stockcode'], inplace= True)"
   ]
  },
  {
   "cell_type": "markdown",
   "metadata": {},
   "source": [
    "<div class=\"alert alert-block alert-warning\",  style= \"width: 55%;>\n",
    "\n",
    "##### Findings:\n",
    "\n",
    "Here we can see that the stock code and product description don't have a 'one-to-one' relationship due to errors such as typing mistakes and the use of different synonymous words for the same product code. However, we can safely assume that they indeed have a one-to-one relationship and we can drop one of this 2 columns.<br>So we can remove the column 'stokecode'\n",
    "</div>"
   ]
  },
  {
   "cell_type": "markdown",
   "metadata": {},
   "source": [
    "<div class=\"alert alert-block alert-info\", style= \"width: 65%;\">\n",
    "\n",
    "### Checking customer and country relationships(if any customer is associated with more than one country)\n",
    "</div>"
   ]
  },
  {
   "cell_type": "code",
   "execution_count": null,
   "metadata": {},
   "outputs": [],
   "source": [
    "check_relationship_type(data, \"customerid\", \"customerid\")"
   ]
  },
  {
   "cell_type": "code",
   "execution_count": null,
   "metadata": {},
   "outputs": [],
   "source": [
    "cust_list= recheck_relationship_type(data, \"customerid\", \"country\")"
   ]
  },
  {
   "cell_type": "code",
   "execution_count": null,
   "metadata": {},
   "outputs": [],
   "source": [
    "for val in cust_list:\n",
    "    print(f\"{val}: {data[data[\"customerid\"]==val][\"country\"].unique()}\")"
   ]
  },
  {
   "cell_type": "markdown",
   "metadata": {},
   "source": [
    "<div class=\"alert alert-block alert-warning\",  style= \"width: 55%;>\n",
    "\n",
    "##### Findings:\n",
    "\n",
    "very few customer made purched from more than one contry\n",
    "</div>"
   ]
  },
  {
   "cell_type": "markdown",
   "metadata": {},
   "source": [
    "<div class=\"alert alert-block alert-info\", style= \"width: 65%;\">\n",
    "\n",
    "### Since we have quantity and unit price, we will calculate the total price/revenue\n",
    "</div>\n",
    "\n",
    "> $ revenue= quantity * unitprice $"
   ]
  },
  {
   "cell_type": "code",
   "execution_count": null,
   "metadata": {},
   "outputs": [],
   "source": [
    "data[\"totalprice\"]= data[\"quantity\"]* data[\"price\"]\n",
    "data.sample(3)"
   ]
  },
  {
   "cell_type": "markdown",
   "metadata": {},
   "source": [
    "<div class=\"alert alert-block alert-info\", style= \"width: 65%;\">\n",
    "\n",
    "### Descriptive stats for quantitative datas:\n",
    "</div>\n"
   ]
  },
  {
   "cell_type": "code",
   "execution_count": null,
   "metadata": {},
   "outputs": [],
   "source": [
    "get_descriptive_stats(data, ['quantity', 'price', 'totalprice'] )"
   ]
  },
  {
   "cell_type": "markdown",
   "metadata": {},
   "source": [
    "<div class=\"alert alert-block alert-info\", style= \"width: 65%;\">\n",
    "\n",
    "### Descriptive stats for qualitatitve datas:\n",
    "</div>\n"
   ]
  },
  {
   "cell_type": "code",
   "execution_count": null,
   "metadata": {},
   "outputs": [],
   "source": [
    "get_descriptive_stats(data, ['description', 'customerid', 'country'] )"
   ]
  },
  {
   "cell_type": "markdown",
   "metadata": {},
   "source": [
    "<div class=\"center_header\">\n",
    "\n",
    "# RFM analysis:\n",
    "\n",
    "</div>\n",
    "\n",
    "\n",
    "<div class=\"alert alert-block alert-success\">\n",
    "\n",
    "`Here:`\n",
    "\n",
    "-  T --> Interpurchase Time\n",
    "- L --> Shopping Cycle\n",
    "- F --> Frequency\n",
    "- T1 --> First purchase\n",
    "- Tn --> Last purchase\n",
    "- $ T = L/(F-1) = (Tn - T1)/(F-1) $\n",
    "</div>\n",
    "\n",
    "<style>\n",
    "  .center_header {\n",
    "  line-height: 90px;\n",
    "  height: 90px;\n",
    "  border: 5px solid blue;\n",
    "  text-align: center;\n",
    "  font-size: xx-large;\n",
    "  }\n",
    "</style>"
   ]
  },
  {
   "cell_type": "code",
   "execution_count": null,
   "metadata": {},
   "outputs": [],
   "source": [
    "RFM= get_rmf_data_set(data)"
   ]
  },
  {
   "cell_type": "markdown",
   "metadata": {},
   "source": [
    "<div class=\"alert alert-block alert-success\", style= \"width: 65%;\">\n",
    "\n",
    "- calculating R,F,M,T score based on quartiles \n",
    "- rfm_score= R+F+M\n",
    "- rfm_score: Label\n",
    "     - 01 - 03: Silver\n",
    "     - 03 - 05: Gold\n",
    "     - 05 - 09: Platinum\n",
    "     - 09 - 12: Diamond\n",
    "</div>"
   ]
  },
  {
   "cell_type": "code",
   "execution_count": null,
   "metadata": {},
   "outputs": [],
   "source": [
    "RFM_with_score= rfm_score_calculate(RFM)"
   ]
  },
  {
   "cell_type": "code",
   "execution_count": null,
   "metadata": {},
   "outputs": [],
   "source": [
    "barplot = dict(RFM_with_score['label'].value_counts())\n",
    "bar_names = list(barplot.keys())\n",
    "bar_values = list(barplot.values())\n",
    "plt.bar(bar_names,bar_values)\n",
    "print(pd.DataFrame(barplot, index=[' ']))"
   ]
  },
  {
   "cell_type": "markdown",
   "metadata": {},
   "source": [
    "<div class=\"center_header\">\n",
    "\n",
    "# Choropleth Map:\n",
    "\n",
    "</div>\n",
    "\n",
    "find the dataset for map cordination here __[here](https://www.naturalearthdata.com/http//www.naturalearthdata.com/download/10m/cultural/ne_10m_admin_0_countries.zip)__\n",
    "<style>\n",
    "  .center_header {\n",
    "  line-height: 90px;\n",
    "  height: 90px;\n",
    "  border: 5px solid blue;\n",
    "  text-align: center;\n",
    "  font-size: xx-large;\n",
    "  }\n",
    "</style>"
   ]
  },
  {
   "cell_type": "code",
   "execution_count": null,
   "metadata": {},
   "outputs": [],
   "source": [
    "merged_df= choropleth_map_plot(data, map_source_url)"
   ]
  },
  {
   "cell_type": "code",
   "execution_count": null,
   "metadata": {},
   "outputs": [],
   "source": []
  }
 ],
 "metadata": {
  "kernelspec": {
   "display_name": "Python 3",
   "language": "python",
   "name": "python3"
  },
  "language_info": {
   "codemirror_mode": {
    "name": "ipython",
    "version": 3
   },
   "file_extension": ".py",
   "mimetype": "text/x-python",
   "name": "python",
   "nbconvert_exporter": "python",
   "pygments_lexer": "ipython3",
   "version": "3.12.0"
  }
 },
 "nbformat": 4,
 "nbformat_minor": 2
}
