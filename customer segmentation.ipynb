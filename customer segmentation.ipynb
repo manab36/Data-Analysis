{
 "cells": [
  {
   "cell_type": "code",
   "execution_count": 1,
   "metadata": {},
   "outputs": [],
   "source": [
    "from include.customer_segmentation_functions import *"
   ]
  },
  {
   "cell_type": "code",
   "execution_count": 2,
   "metadata": {},
   "outputs": [],
   "source": [
    "map_source_url= R\"DataSets\\country_map\\ne_10m_admin_0_countries\\ne_10m_admin_0_countries.shp\""
   ]
  },
  {
   "cell_type": "code",
   "execution_count": 3,
   "metadata": {},
   "outputs": [],
   "source": [
    "data_file= R\"DataSets\\rfm_ana\\online_retail_II.csv\"\n",
    "main_data= pd.read_csv(data_file,encoding ='cp1252')\n",
    "data= main_data #.sample(10000)"
   ]
  },
  {
   "cell_type": "markdown",
   "metadata": {},
   "source": [
    "<div class=\"alert alert-block alert-success\">\n",
    "To keep the repo and this doc clean, I have kept all the user defined function used in this doc to a different python file(include/customer_segmentation_functions.py).\n",
    "</div>"
   ]
  },
  {
   "cell_type": "markdown",
   "metadata": {},
   "source": [
    "<div class=\"center_header\">\n",
    "\n",
    "# About the data:\n",
    "\n",
    "</div>\n",
    "<p>\n",
    "This Online Retail II data set contains all the transactions occurring for a UK-based and registered, non-store online retail between 01/12/2009 and 09/12/201- The company mainly sells unique all-occasion gift-ware. Many customers of the company are wholesalers.\n",
    "</p>\n",
    "\n",
    "<h5 style=\"margin: 0px; padding: 0px;\">Attribute Information:</h5>\n",
    "<ul>\n",
    "<li>InvoiceNo:</li> Invoice number. Nominal. A 6-digit integral number uniquely assigned to each transaction. If this code starts with the letter 'c', it indicates a cancellation.\n",
    "<li>StockCode:</li> Product (item) code. Nominal. A 5-digit integral number uniquely assigned to each distinct product.\n",
    "<li>Description:</li> Product (item) name. Nominal.\n",
    "<li>Quantity:</li> The quantities of each product (item) per transaction. Numeric.\n",
    "<li>InvoiceDate:</li> Invice date and time. Numeric. The day and time when a transaction was generated.\n",
    "<li>UnitPrice:</li> Unit price. Numeric. Product price per unit in sterling (Â£).\n",
    "<li>CustomerID:</li> Customer number. Nominal. A 5-digit integral number uniquely assigned to each customer.\n",
    "<li>Country:</li> Country name. Nominal. The name of the country where a customer resides\n",
    "</ul>\n",
    "\n",
    "find the dataset here __[here](https://www.kaggle.com/datasets/mashlyn/online-retail-ii-uci/data)__\n",
    "\n",
    "<style>\n",
    "  .center_header {\n",
    "  line-height: 90px;\n",
    "  height: 90px;\n",
    "  border: 5px solid blue;\n",
    "  text-align: center;\n",
    "  font-size: xx-large;\n",
    "  }\n",
    "</style>"
   ]
  },
  {
   "cell_type": "markdown",
   "metadata": {},
   "source": [
    "<div class=\"center_header\">\n",
    "\n",
    "## What is RFM ?\n",
    "\n",
    "</div>\n",
    "\n",
    "### What is Customer Segmentation ?\n",
    "\n",
    "<p>\n",
    "  Customer segmentation is the practice of dividing a company’s customers into groups that reflect similarity among customers in each group. The goal of segmenting customers is to decide how to relate to customers in each segment in order to maximize the value of each customer to the business.<br>\n",
    "</p>\n",
    "\n",
    "__[article link](https://www.optimove.com/resources/learning-center/customer-segmentation)__\n",
    "\n",
    "\n",
    "### Different types of customer segmentation:\n",
    "\n",
    "<ul>\n",
    "<li>Demographic customer segmentation</li>\n",
    "<li>Geographic customer segmentation</li>\n",
    "<li>Behavioral customer segmentation</li>\n",
    "<li>Psychographic customer segmentation</li>\n",
    "<li>Technographic customer segmentation</li>\n",
    "</ul>\n",
    "\n",
    "### What is RFM Segmentation?\n",
    "\n",
    "<p>\n",
    "RFM segmentation is a marketing analysis method that involves analyzing customer behavior based on three key factors: recency, frequency, and monetary value. This RFM analysis helps businesses categorize customers into segments, enabling targeted and personalized marketing strategies.  \n",
    "</p>\n",
    "\n",
    "<ul>\n",
    "<li>Recency:</li> How much time has elapsed since a customer’s last activity or transaction with the brand? Activity is usually a purchase, although variations are sometimes used, e.g., the last visit to a website or use of a mobile app. In most cases, the more recently a customer has interacted or transacted with a brand, the more likely that customer will be responsive to communications from the brand. \n",
    "<li>Frequency:</li> How often has a customer transacted or interacted with the brand during a particular period of time? Clearly, customers with frequent activities are more engaged, and probably more loyal, than customers who rarely do so. And one-time-only customers are in a class of their own. \n",
    "<li>Monetary:</li> Also referred to as “monetary value,” this factor reflects how much a customer has spent with the brand during a particular period of time. Big spenders should usually be treated differently than customers who spend little. Looking at monetary divided by frequency indicates the average purchase amount – an important secondary factor to consider when segmenting customers. \n",
    "</ul>\n",
    "\n",
    "__[article link](https://www.optimove.com/resources/learning-center/rfm-segmentation)__\n",
    "\n",
    "\n",
    "\n",
    "\n",
    "\n",
    "\n",
    "\n",
    "\n",
    "\n",
    "\n",
    "\n",
    "\n",
    "\n",
    "\n",
    "\n",
    "\n",
    "\n",
    "\n",
    "<style>\n",
    "  .center_header {\n",
    "  line-height: 90px;\n",
    "  height: 90px;\n",
    "  border: 5px solid blue;\n",
    "  text-align: center;\n",
    "  font-size: xx-large;\n",
    "  }"
   ]
  },
  {
   "cell_type": "markdown",
   "metadata": {},
   "source": [
    "<div class=\"center_header\">\n",
    "\n",
    "# General view of the dataset:\n",
    "\n",
    "</div>\n",
    "\n",
    "<style>\n",
    "  .center_header {\n",
    "  line-height: 90px;\n",
    "  height: 90px;\n",
    "  border: 5px solid blue;\n",
    "  text-align: center;\n",
    "  font-size: xx-large;\n",
    "  }"
   ]
  },
  {
   "cell_type": "code",
   "execution_count": 4,
   "metadata": {},
   "outputs": [
    {
     "data": {
      "text/html": [
       "<div>\n",
       "<style scoped>\n",
       "    .dataframe tbody tr th:only-of-type {\n",
       "        vertical-align: middle;\n",
       "    }\n",
       "\n",
       "    .dataframe tbody tr th {\n",
       "        vertical-align: top;\n",
       "    }\n",
       "\n",
       "    .dataframe thead th {\n",
       "        text-align: right;\n",
       "    }\n",
       "</style>\n",
       "<table border=\"1\" class=\"dataframe\">\n",
       "  <thead>\n",
       "    <tr style=\"text-align: right;\">\n",
       "      <th></th>\n",
       "      <th>Invoice</th>\n",
       "      <th>StockCode</th>\n",
       "      <th>Description</th>\n",
       "      <th>Quantity</th>\n",
       "      <th>InvoiceDate</th>\n",
       "      <th>Price</th>\n",
       "      <th>Customer ID</th>\n",
       "      <th>Country</th>\n",
       "    </tr>\n",
       "  </thead>\n",
       "  <tbody>\n",
       "    <tr>\n",
       "      <th>339607</th>\n",
       "      <td>522501</td>\n",
       "      <td>22649</td>\n",
       "      <td>STRAWBERRY FAIRY CAKE TEAPOT</td>\n",
       "      <td>2</td>\n",
       "      <td>2010-09-15 11:07:00</td>\n",
       "      <td>4.95</td>\n",
       "      <td>15039.0</td>\n",
       "      <td>United Kingdom</td>\n",
       "    </tr>\n",
       "    <tr>\n",
       "      <th>455141</th>\n",
       "      <td>532626</td>\n",
       "      <td>21927</td>\n",
       "      <td>BLUE/CREAM STRIPE CUSHION COVER</td>\n",
       "      <td>12</td>\n",
       "      <td>2010-11-12 15:33:00</td>\n",
       "      <td>1.25</td>\n",
       "      <td>12779.0</td>\n",
       "      <td>Poland</td>\n",
       "    </tr>\n",
       "    <tr>\n",
       "      <th>604320</th>\n",
       "      <td>542898</td>\n",
       "      <td>84755</td>\n",
       "      <td>COLOUR GLASS T-LIGHT HOLDER HANGING</td>\n",
       "      <td>8</td>\n",
       "      <td>2011-02-01 14:01:00</td>\n",
       "      <td>0.65</td>\n",
       "      <td>16110.0</td>\n",
       "      <td>United Kingdom</td>\n",
       "    </tr>\n",
       "  </tbody>\n",
       "</table>\n",
       "</div>"
      ],
      "text/plain": [
       "       Invoice StockCode                          Description  Quantity          InvoiceDate  Price  Customer ID         Country\n",
       "339607  522501     22649         STRAWBERRY FAIRY CAKE TEAPOT         2  2010-09-15 11:07:00   4.95      15039.0  United Kingdom\n",
       "455141  532626     21927     BLUE/CREAM STRIPE CUSHION COVER         12  2010-11-12 15:33:00   1.25      12779.0          Poland\n",
       "604320  542898     84755  COLOUR GLASS T-LIGHT HOLDER HANGING         8  2011-02-01 14:01:00   0.65      16110.0  United Kingdom"
      ]
     },
     "execution_count": 4,
     "metadata": {},
     "output_type": "execute_result"
    }
   ],
   "source": [
    "data.sample(3)"
   ]
  },
  {
   "cell_type": "code",
   "execution_count": 5,
   "metadata": {},
   "outputs": [
    {
     "name": "stdout",
     "output_type": "stream",
     "text": [
      "<class 'pandas.core.frame.DataFrame'>\n",
      "RangeIndex: 1067371 entries, 0 to 1067370\n",
      "Data columns (total 8 columns):\n",
      " #   Column       Non-Null Count    Dtype  \n",
      "---  ------       --------------    -----  \n",
      " 0   Invoice      1067371 non-null  object \n",
      " 1   StockCode    1067371 non-null  object \n",
      " 2   Description  1062989 non-null  object \n",
      " 3   Quantity     1067371 non-null  int64  \n",
      " 4   InvoiceDate  1067371 non-null  object \n",
      " 5   Price        1067371 non-null  float64\n",
      " 6   Customer ID  824364 non-null   float64\n",
      " 7   Country      1067371 non-null  object \n",
      "dtypes: float64(2), int64(1), object(5)\n",
      "memory usage: 65.1+ MB\n"
     ]
    }
   ],
   "source": [
    "data.info()"
   ]
  },
  {
   "cell_type": "code",
   "execution_count": 6,
   "metadata": {},
   "outputs": [
    {
     "data": {
      "text/html": [
       "<div>\n",
       "<style scoped>\n",
       "    .dataframe tbody tr th:only-of-type {\n",
       "        vertical-align: middle;\n",
       "    }\n",
       "\n",
       "    .dataframe tbody tr th {\n",
       "        vertical-align: top;\n",
       "    }\n",
       "\n",
       "    .dataframe thead th {\n",
       "        text-align: right;\n",
       "    }\n",
       "</style>\n",
       "<table border=\"1\" class=\"dataframe\">\n",
       "  <thead>\n",
       "    <tr style=\"text-align: right;\">\n",
       "      <th></th>\n",
       "      <th>count</th>\n",
       "      <th>unique</th>\n",
       "      <th>top</th>\n",
       "      <th>freq</th>\n",
       "      <th>mean</th>\n",
       "      <th>std</th>\n",
       "      <th>min</th>\n",
       "      <th>25%</th>\n",
       "      <th>50%</th>\n",
       "      <th>75%</th>\n",
       "      <th>max</th>\n",
       "    </tr>\n",
       "  </thead>\n",
       "  <tbody>\n",
       "    <tr>\n",
       "      <th>Invoice</th>\n",
       "      <td>1067371</td>\n",
       "      <td>53628</td>\n",
       "      <td>537434</td>\n",
       "      <td>1350</td>\n",
       "      <td>NaN</td>\n",
       "      <td>NaN</td>\n",
       "      <td>NaN</td>\n",
       "      <td>NaN</td>\n",
       "      <td>NaN</td>\n",
       "      <td>NaN</td>\n",
       "      <td>NaN</td>\n",
       "    </tr>\n",
       "    <tr>\n",
       "      <th>StockCode</th>\n",
       "      <td>1067371</td>\n",
       "      <td>5305</td>\n",
       "      <td>85123A</td>\n",
       "      <td>5829</td>\n",
       "      <td>NaN</td>\n",
       "      <td>NaN</td>\n",
       "      <td>NaN</td>\n",
       "      <td>NaN</td>\n",
       "      <td>NaN</td>\n",
       "      <td>NaN</td>\n",
       "      <td>NaN</td>\n",
       "    </tr>\n",
       "    <tr>\n",
       "      <th>Description</th>\n",
       "      <td>1062989</td>\n",
       "      <td>5698</td>\n",
       "      <td>WHITE HANGING HEART T-LIGHT HOLDER</td>\n",
       "      <td>5918</td>\n",
       "      <td>NaN</td>\n",
       "      <td>NaN</td>\n",
       "      <td>NaN</td>\n",
       "      <td>NaN</td>\n",
       "      <td>NaN</td>\n",
       "      <td>NaN</td>\n",
       "      <td>NaN</td>\n",
       "    </tr>\n",
       "    <tr>\n",
       "      <th>Quantity</th>\n",
       "      <td>1067371.0</td>\n",
       "      <td>NaN</td>\n",
       "      <td>NaN</td>\n",
       "      <td>NaN</td>\n",
       "      <td>9.938898</td>\n",
       "      <td>172.705794</td>\n",
       "      <td>-80995.0</td>\n",
       "      <td>1.0</td>\n",
       "      <td>3.0</td>\n",
       "      <td>10.0</td>\n",
       "      <td>80995.0</td>\n",
       "    </tr>\n",
       "    <tr>\n",
       "      <th>InvoiceDate</th>\n",
       "      <td>1067371</td>\n",
       "      <td>47635</td>\n",
       "      <td>2010-12-06 16:57:00</td>\n",
       "      <td>1350</td>\n",
       "      <td>NaN</td>\n",
       "      <td>NaN</td>\n",
       "      <td>NaN</td>\n",
       "      <td>NaN</td>\n",
       "      <td>NaN</td>\n",
       "      <td>NaN</td>\n",
       "      <td>NaN</td>\n",
       "    </tr>\n",
       "    <tr>\n",
       "      <th>Price</th>\n",
       "      <td>1067371.0</td>\n",
       "      <td>NaN</td>\n",
       "      <td>NaN</td>\n",
       "      <td>NaN</td>\n",
       "      <td>4.649388</td>\n",
       "      <td>123.553059</td>\n",
       "      <td>-53594.36</td>\n",
       "      <td>1.25</td>\n",
       "      <td>2.1</td>\n",
       "      <td>4.15</td>\n",
       "      <td>38970.0</td>\n",
       "    </tr>\n",
       "    <tr>\n",
       "      <th>Customer ID</th>\n",
       "      <td>824364.0</td>\n",
       "      <td>NaN</td>\n",
       "      <td>NaN</td>\n",
       "      <td>NaN</td>\n",
       "      <td>15324.638504</td>\n",
       "      <td>1697.46445</td>\n",
       "      <td>12346.0</td>\n",
       "      <td>13975.0</td>\n",
       "      <td>15255.0</td>\n",
       "      <td>16797.0</td>\n",
       "      <td>18287.0</td>\n",
       "    </tr>\n",
       "    <tr>\n",
       "      <th>Country</th>\n",
       "      <td>1067371</td>\n",
       "      <td>43</td>\n",
       "      <td>United Kingdom</td>\n",
       "      <td>981330</td>\n",
       "      <td>NaN</td>\n",
       "      <td>NaN</td>\n",
       "      <td>NaN</td>\n",
       "      <td>NaN</td>\n",
       "      <td>NaN</td>\n",
       "      <td>NaN</td>\n",
       "      <td>NaN</td>\n",
       "    </tr>\n",
       "  </tbody>\n",
       "</table>\n",
       "</div>"
      ],
      "text/plain": [
       "                 count unique                                 top    freq          mean         std       min      25%      50%      75%      max\n",
       "Invoice        1067371  53628                              537434    1350           NaN         NaN       NaN      NaN      NaN      NaN      NaN\n",
       "StockCode      1067371   5305                              85123A    5829           NaN         NaN       NaN      NaN      NaN      NaN      NaN\n",
       "Description    1062989   5698  WHITE HANGING HEART T-LIGHT HOLDER    5918           NaN         NaN       NaN      NaN      NaN      NaN      NaN\n",
       "Quantity     1067371.0    NaN                                 NaN     NaN      9.938898  172.705794  -80995.0      1.0      3.0     10.0  80995.0\n",
       "InvoiceDate    1067371  47635                 2010-12-06 16:57:00    1350           NaN         NaN       NaN      NaN      NaN      NaN      NaN\n",
       "Price        1067371.0    NaN                                 NaN     NaN      4.649388  123.553059 -53594.36     1.25      2.1     4.15  38970.0\n",
       "Customer ID   824364.0    NaN                                 NaN     NaN  15324.638504  1697.46445   12346.0  13975.0  15255.0  16797.0  18287.0\n",
       "Country        1067371     43                      United Kingdom  981330           NaN         NaN       NaN      NaN      NaN      NaN      NaN"
      ]
     },
     "execution_count": 6,
     "metadata": {},
     "output_type": "execute_result"
    }
   ],
   "source": [
    "data.describe(include=\"all\").T"
   ]
  },
  {
   "cell_type": "markdown",
   "metadata": {},
   "source": [
    "<div class=\"center_header\">\n",
    "\n",
    "# Data Preprocessing:\n",
    "\n",
    "</div>\n",
    "<p>\n",
    "\n",
    "`Which involves few steps eg: Data Cleaning, Data Transformation, Data Reduction, etc`\n",
    "\n",
    "</p>\n",
    "<style>\n",
    "  .center_header {\n",
    "  line-height: 90px;\n",
    "  height: 90px;\n",
    "  border: 5px solid blue;\n",
    "  text-align: center;\n",
    "  font-size: xx-large;\n",
    "  }"
   ]
  },
  {
   "cell_type": "code",
   "execution_count": 7,
   "metadata": {},
   "outputs": [
    {
     "data": {
      "text/html": [
       "<div>\n",
       "<style scoped>\n",
       "    .dataframe tbody tr th:only-of-type {\n",
       "        vertical-align: middle;\n",
       "    }\n",
       "\n",
       "    .dataframe tbody tr th {\n",
       "        vertical-align: top;\n",
       "    }\n",
       "\n",
       "    .dataframe thead th {\n",
       "        text-align: right;\n",
       "    }\n",
       "</style>\n",
       "<table border=\"1\" class=\"dataframe\">\n",
       "  <thead>\n",
       "    <tr style=\"text-align: right;\">\n",
       "      <th></th>\n",
       "      <th>invoice</th>\n",
       "      <th>stockcode</th>\n",
       "      <th>description</th>\n",
       "      <th>quantity</th>\n",
       "      <th>invoicedate</th>\n",
       "      <th>price</th>\n",
       "      <th>customerid</th>\n",
       "      <th>country</th>\n",
       "    </tr>\n",
       "  </thead>\n",
       "  <tbody>\n",
       "    <tr>\n",
       "      <th>114794</th>\n",
       "      <td>500336</td>\n",
       "      <td>16236</td>\n",
       "      <td>KITTY PENCIL ERASERS</td>\n",
       "      <td>3</td>\n",
       "      <td>2010-03-07 13:48:00</td>\n",
       "      <td>0.21</td>\n",
       "      <td>17589.0</td>\n",
       "      <td>United Kingdom</td>\n",
       "    </tr>\n",
       "    <tr>\n",
       "      <th>745679</th>\n",
       "      <td>556127</td>\n",
       "      <td>22417</td>\n",
       "      <td>PACK OF 60 SPACEBOY CAKE CASES</td>\n",
       "      <td>24</td>\n",
       "      <td>2011-06-09 10:23:00</td>\n",
       "      <td>0.55</td>\n",
       "      <td>12406.0</td>\n",
       "      <td>Denmark</td>\n",
       "    </tr>\n",
       "    <tr>\n",
       "      <th>664318</th>\n",
       "      <td>548214</td>\n",
       "      <td>22178</td>\n",
       "      <td>VICTORIAN GLASS HANGING T-LIGHT</td>\n",
       "      <td>12</td>\n",
       "      <td>2011-03-30 09:17:00</td>\n",
       "      <td>1.25</td>\n",
       "      <td>13720.0</td>\n",
       "      <td>United Kingdom</td>\n",
       "    </tr>\n",
       "  </tbody>\n",
       "</table>\n",
       "</div>"
      ],
      "text/plain": [
       "       invoice stockcode                      description  quantity         invoicedate  price  customerid         country\n",
       "114794  500336     16236             KITTY PENCIL ERASERS         3 2010-03-07 13:48:00   0.21     17589.0  United Kingdom\n",
       "745679  556127     22417   PACK OF 60 SPACEBOY CAKE CASES        24 2011-06-09 10:23:00   0.55     12406.0         Denmark\n",
       "664318  548214     22178  VICTORIAN GLASS HANGING T-LIGHT        12 2011-03-30 09:17:00   1.25     13720.0  United Kingdom"
      ]
     },
     "execution_count": 7,
     "metadata": {},
     "output_type": "execute_result"
    }
   ],
   "source": [
    "#cahnging col name\n",
    "data.rename(columns = {x:x.lower().replace(' ','') for x in data.columns}, inplace = True)\n",
    "\n",
    "#change datatype\n",
    "data['quantity'] = pd.to_numeric(data['quantity'])\n",
    "data['price'] = pd.to_numeric(data['price'])\n",
    "data[\"invoicedate\"]=pd.to_datetime(data[\"invoicedate\"])\n",
    "\n",
    "#removing extra white spaces\n",
    "data[\"description\"]= data[\"description\"].str.strip()\n",
    "data.sample(3)"
   ]
  },
  {
   "cell_type": "markdown",
   "metadata": {},
   "source": [
    "<div class=\"alert alert-block alert-info\", style= \"width: 65%;\">\n",
    "\n",
    "### Checking for null(NaN) values in the dataset:\n",
    "</div>"
   ]
  },
  {
   "cell_type": "code",
   "execution_count": 8,
   "metadata": {},
   "outputs": [
    {
     "name": "stdout",
     "output_type": "stream",
     "text": [
      "****************************************\n",
      "\u001b[1m\u001b[33mcolumn name: stockcode\u001b[0m\n",
      "****************************************\n",
      "    number of 'NaN' value: 0\n",
      "percentage of 'NaN' value: 0.0%\n",
      "   number of unique value: 5305\n",
      "    number of total value: 1067371 (including none)\n",
      "   number of total Values: 1067371\n",
      "\n",
      "\n",
      "*******************************************\n",
      "\u001b[1m\u001b[33mcolumn name: description\u001b[0m\n",
      "*******************************************\n",
      "    number of 'NaN' value: 4382\n",
      "percentage of 'NaN' value: 0.41%\n",
      "   number of unique value: 5655\n",
      "    number of total value: 1067371 (including none)\n",
      "   number of total Values: 1062989\n",
      "\n",
      "\n",
      "**************************************\n",
      "\u001b[1m\u001b[33mcolumn name: quantity\u001b[0m\n",
      "**************************************\n",
      "    number of 'NaN' value: 0\n",
      "percentage of 'NaN' value: 0.0%\n",
      "   number of unique value: 1057\n",
      "    number of total value: 1067371 (including none)\n",
      "   number of total Values: 1067371\n",
      "\n",
      "\n",
      "********************************\n",
      "\u001b[1m\u001b[33mcolumn name: price\u001b[0m\n",
      "********************************\n",
      "    number of 'NaN' value: 0\n",
      "percentage of 'NaN' value: 0.0%\n",
      "   number of unique value: 2807\n",
      "    number of total value: 1067371 (including none)\n",
      "   number of total Values: 1067371\n",
      "\n",
      "\n",
      "*****************************************\n",
      "\u001b[1m\u001b[33mcolumn name: customerid\u001b[0m\n",
      "*****************************************\n",
      "    number of 'NaN' value: 243007\n",
      "percentage of 'NaN' value: 22.77%\n",
      "   number of unique value: 5942\n",
      "    number of total value: 1067371 (including none)\n",
      "   number of total Values: 824364\n",
      "\n",
      "\n"
     ]
    }
   ],
   "source": [
    "for col_name in [\"stockcode\", \"description\", \"quantity\", \"price\", \"customerid\"]:\n",
    "    get_value_counts(data, col_name)"
   ]
  },
  {
   "cell_type": "markdown",
   "metadata": {},
   "source": [
    "<div class=\"alert alert-block alert-info\", style= \"width: 65%;\">\n",
    "\n",
    "### Removing rows with NaN values and cancelled items.<br>The invoice code, starting with 'C' were cancalled.\n",
    "</div>"
   ]
  },
  {
   "cell_type": "code",
   "execution_count": 9,
   "metadata": {},
   "outputs": [
    {
     "name": "stdout",
     "output_type": "stream",
     "text": [
      "***************************************************************\n",
      "\u001b[1m\u001b[33mdroping rows where customerid = NaN\u001b[0m\n",
      "***************************************************************\n",
      "Row counts before droping 'NaN' values: 1067371\n",
      " Row counts after droping 'NaN' values: 824364\n",
      "----------------------------------------\n",
      "\u001b[2m\u001b[31m*                     Total rows droped: 243007\u001b[0m\n",
      "\u001b[2m\u001b[31m*             Percentage of droped rows: 22.77%\n",
      "\n",
      "\u001b[0m\n",
      "******************************************************\n",
      "\u001b[1m\u001b[33mdroping rows of canceled items\u001b[0m\n",
      "******************************************************\n",
      "Number of rows before droping canceled items: 824364\n",
      " Number of rows after droping canceled items: 805620\n",
      "----------------------------------------\n",
      "\u001b[2m\u001b[31m*                          Total rows droped: 18744\u001b[0m\n",
      "\u001b[2m\u001b[31m*                  Percentage of droped rows: 2.27%\n",
      "\n",
      "\u001b[0m\n"
     ]
    }
   ],
   "source": [
    "data= drop_nun_val_in_col(data, \"customerid\")\n",
    "data= drop_canceled_items(data)"
   ]
  },
  {
   "cell_type": "code",
   "execution_count": 10,
   "metadata": {},
   "outputs": [],
   "source": [
    "data['customerid']= data['customerid'].astype(np.int64).astype(\"string\")\n",
    "data['quantity']= data['quantity'].astype(np.int64)\n",
    "data[\"invoicetime\"]= data[\"invoicedate\"].dt.time\n",
    "data[\"invoicedate\"]= data[\"invoicedate\"].dt.date"
   ]
  },
  {
   "cell_type": "code",
   "execution_count": 11,
   "metadata": {},
   "outputs": [
    {
     "name": "stdout",
     "output_type": "stream",
     "text": [
      "0\n",
      "0\n"
     ]
    }
   ],
   "source": [
    "print(data[data[\"price\"]<0][\"price\"].count())\n",
    "print(data[data[\"quantity\"]<0][\"quantity\"].count())"
   ]
  },
  {
   "cell_type": "markdown",
   "metadata": {},
   "source": [
    "<div class=\"alert alert-block alert-info\", style= \"width: 65%;\">\n",
    "\n",
    "### We can ignore the products which have no price (that is =0.0).<br> Also removing duplicate entries.\n",
    "</div>"
   ]
  },
  {
   "cell_type": "code",
   "execution_count": 12,
   "metadata": {},
   "outputs": [
    {
     "name": "stdout",
     "output_type": "stream",
     "text": [
      "before cleaning 0 price iteams:\n",
      "        invoice stockcode                     description  quantity invoicedate  price customerid         country invoicetime\n",
      "4674     489825     22076                6 RIBBONS EMPIRE        12  2009-12-02    0.0      16126  United Kingdom    13:34:00\n",
      "6781     489998     48185             DOOR MAT FAIRY CAKE         2  2009-12-03    0.0      15658  United Kingdom    11:19:00\n",
      "16107    490727         M                          Manual         1  2009-12-07    0.0      17231  United Kingdom    16:38:00\n",
      "18738    490961     22065   CHRISTMAS PUDDING TRINKET POT         1  2009-12-08    0.0      14108  United Kingdom    15:25:00\n",
      "18739    490961     22142     CHRISTMAS CRAFT WHITE FAIRY        12  2009-12-08    0.0      14108  United Kingdom    15:25:00\n",
      "...         ...       ...                             ...       ...         ...    ...        ...             ...         ...\n",
      "1004540  577129     22464     HANGING METAL HEART LANTERN         4  2011-11-17    0.0      15602  United Kingdom    19:52:00\n",
      "1005014  577168         M                          Manual         1  2011-11-18    0.0      12603         Germany    10:42:00\n",
      "1006110  577314     23407  SET OF 2 TRAYS HOME SWEET HOME         2  2011-11-18    0.0      12444          Norway    13:23:00\n",
      "1011446  577696         M                          Manual         1  2011-11-21    0.0      16406  United Kingdom    11:57:00\n",
      "1027583  578841     84826  ASSTD DESIGN 3D PAPER STICKERS     12540  2011-11-25    0.0      13256  United Kingdom    15:57:00\n",
      "\n",
      "[71 rows x 9 columns]\n"
     ]
    }
   ],
   "source": [
    "print(f\"before cleaning 0 price iteams:\\n{data[data[\"price\"] ==0]}\")\n",
    "data= data[data[\"price\"] !=0.0]"
   ]
  },
  {
   "cell_type": "code",
   "execution_count": 13,
   "metadata": {},
   "outputs": [
    {
     "name": "stdout",
     "output_type": "stream",
     "text": [
      "row count before removing duplicates:805549\n",
      " row count after removing duplicates:779425\n"
     ]
    }
   ],
   "source": [
    "print(f\"row count before removing duplicates:{len(data)}\")\n",
    "data.drop_duplicates(inplace= True)\n",
    "print(f\" row count after removing duplicates:{len(data)}\")"
   ]
  },
  {
   "cell_type": "markdown",
   "metadata": {},
   "source": [
    "<div class=\"alert alert-block alert-info\", style= \"width: 65%;\">\n",
    "\n",
    "### Removing outliers in Unit price and Quantity\n",
    "</div>\n",
    "\n",
    "<i> For calculating upper and lower bound we took 5 percentile as Q1 and 95 percentile as Q3 </i>"
   ]
  },
  {
   "cell_type": "code",
   "execution_count": 14,
   "metadata": {},
   "outputs": [
    {
     "data": {
      "text/html": [
       "<div>\n",
       "<style scoped>\n",
       "    .dataframe tbody tr th:only-of-type {\n",
       "        vertical-align: middle;\n",
       "    }\n",
       "\n",
       "    .dataframe tbody tr th {\n",
       "        vertical-align: top;\n",
       "    }\n",
       "\n",
       "    .dataframe thead th {\n",
       "        text-align: right;\n",
       "    }\n",
       "</style>\n",
       "<table border=\"1\" class=\"dataframe\">\n",
       "  <thead>\n",
       "    <tr style=\"text-align: right;\">\n",
       "      <th></th>\n",
       "      <th>count</th>\n",
       "      <th>mean</th>\n",
       "      <th>std</th>\n",
       "      <th>min</th>\n",
       "      <th>25%</th>\n",
       "      <th>50%</th>\n",
       "      <th>75%</th>\n",
       "      <th>max</th>\n",
       "    </tr>\n",
       "  </thead>\n",
       "  <tbody>\n",
       "    <tr>\n",
       "      <th>quantity</th>\n",
       "      <td>779425.0</td>\n",
       "      <td>13.489370</td>\n",
       "      <td>145.855814</td>\n",
       "      <td>1.000</td>\n",
       "      <td>2.00</td>\n",
       "      <td>6.00</td>\n",
       "      <td>12.00</td>\n",
       "      <td>80995.0</td>\n",
       "    </tr>\n",
       "    <tr>\n",
       "      <th>price</th>\n",
       "      <td>779425.0</td>\n",
       "      <td>3.218488</td>\n",
       "      <td>29.676140</td>\n",
       "      <td>0.001</td>\n",
       "      <td>1.25</td>\n",
       "      <td>1.95</td>\n",
       "      <td>3.75</td>\n",
       "      <td>10953.5</td>\n",
       "    </tr>\n",
       "  </tbody>\n",
       "</table>\n",
       "</div>"
      ],
      "text/plain": [
       "             count       mean         std    min   25%   50%    75%      max\n",
       "quantity  779425.0  13.489370  145.855814  1.000  2.00  6.00  12.00  80995.0\n",
       "price     779425.0   3.218488   29.676140  0.001  1.25  1.95   3.75  10953.5"
      ]
     },
     "execution_count": 14,
     "metadata": {},
     "output_type": "execute_result"
    }
   ],
   "source": [
    "data[[\"quantity\", \"price\"]].describe().T"
   ]
  },
  {
   "cell_type": "code",
   "execution_count": 15,
   "metadata": {},
   "outputs": [
    {
     "name": "stdout",
     "output_type": "stream",
     "text": [
      "******************************************************\n",
      "\u001b[1m\u001b[33mRemoving outlier in col: price\u001b[0m\n",
      "******************************************************\n",
      "\u001b[34m*You have selected Q1= 5 percentile \n",
      "and Q3= 95 percentile\n",
      "\u001b[0m\n",
      "\u001b[34m*Lowerbound: -11.700000000000001 \n",
      "and Upperbound: 20.62\u001b[0m\n",
      "\u001b[2m\u001b[31m*before removing outliers: \n",
      "count    779425.000000\n",
      "mean          3.218488\n",
      "std          29.676140\n",
      "min           0.001000\n",
      "25%           1.250000\n",
      "50%           1.950000\n",
      "75%           3.750000\n",
      "max       10953.500000\n",
      "Name: price, dtype: float64\n",
      "\u001b[0m\n",
      "\u001b[2m\u001b[31m* after removing outliers: \n",
      "count    777221.000000\n",
      "mean          2.867743\n",
      "std           2.803582\n",
      "min           0.001000\n",
      "25%           1.250000\n",
      "50%           1.950000\n",
      "75%           3.750000\n",
      "max          20.300000\n",
      "Name: price, dtype: float64\u001b[0m\n",
      "***********************************************************\n",
      "\u001b[1m\u001b[33mRemoving outlier in col: quantity\u001b[0m\n",
      "***********************************************************\n",
      "\u001b[34m*You have selected Q1= 5 percentile \n",
      "and Q3= 95 percentile\n",
      "\u001b[0m\n",
      "\u001b[34m*Lowerbound: -51.5 \n",
      "and Upperbound: 88.5\u001b[0m\n",
      "\u001b[2m\u001b[31m*before removing outliers: \n",
      "count    777221.000000\n",
      "mean         13.521454\n",
      "std         146.060998\n",
      "min           1.000000\n",
      "25%           2.000000\n",
      "50%           6.000000\n",
      "75%          12.000000\n",
      "max       80995.000000\n",
      "Name: quantity, dtype: float64\n",
      "\u001b[0m\n",
      "\u001b[2m\u001b[31m* after removing outliers: \n",
      "count    760725.000000\n",
      "mean          8.789062\n",
      "std          10.832028\n",
      "min           1.000000\n",
      "25%           2.000000\n",
      "50%           5.000000\n",
      "75%          12.000000\n",
      "max          88.000000\n",
      "Name: quantity, dtype: float64\u001b[0m\n"
     ]
    }
   ],
   "source": [
    "new_df= outlier_remover(data, \"price\")\n",
    "new_df= outlier_remover(new_df, \"quantity\")"
   ]
  },
  {
   "cell_type": "code",
   "execution_count": 16,
   "metadata": {},
   "outputs": [
    {
     "data": {
      "text/html": [
       "<div>\n",
       "<style scoped>\n",
       "    .dataframe tbody tr th:only-of-type {\n",
       "        vertical-align: middle;\n",
       "    }\n",
       "\n",
       "    .dataframe tbody tr th {\n",
       "        vertical-align: top;\n",
       "    }\n",
       "\n",
       "    .dataframe thead th {\n",
       "        text-align: right;\n",
       "    }\n",
       "</style>\n",
       "<table border=\"1\" class=\"dataframe\">\n",
       "  <thead>\n",
       "    <tr style=\"text-align: right;\">\n",
       "      <th></th>\n",
       "      <th>count</th>\n",
       "      <th>mean</th>\n",
       "      <th>std</th>\n",
       "      <th>min</th>\n",
       "      <th>25%</th>\n",
       "      <th>50%</th>\n",
       "      <th>75%</th>\n",
       "      <th>max</th>\n",
       "    </tr>\n",
       "  </thead>\n",
       "  <tbody>\n",
       "    <tr>\n",
       "      <th>quantity</th>\n",
       "      <td>760725.0</td>\n",
       "      <td>8.789062</td>\n",
       "      <td>10.832028</td>\n",
       "      <td>1.000</td>\n",
       "      <td>2.00</td>\n",
       "      <td>5.00</td>\n",
       "      <td>12.00</td>\n",
       "      <td>88.0</td>\n",
       "    </tr>\n",
       "    <tr>\n",
       "      <th>price</th>\n",
       "      <td>760725.0</td>\n",
       "      <td>2.901453</td>\n",
       "      <td>2.818504</td>\n",
       "      <td>0.001</td>\n",
       "      <td>1.25</td>\n",
       "      <td>1.95</td>\n",
       "      <td>3.75</td>\n",
       "      <td>20.3</td>\n",
       "    </tr>\n",
       "  </tbody>\n",
       "</table>\n",
       "</div>"
      ],
      "text/plain": [
       "             count      mean        std    min   25%   50%    75%   max\n",
       "quantity  760725.0  8.789062  10.832028  1.000  2.00  5.00  12.00  88.0\n",
       "price     760725.0  2.901453   2.818504  0.001  1.25  1.95   3.75  20.3"
      ]
     },
     "execution_count": 16,
     "metadata": {},
     "output_type": "execute_result"
    }
   ],
   "source": [
    "data= new_df\n",
    "data[[\"quantity\", \"price\"]].describe().T"
   ]
  },
  {
   "cell_type": "markdown",
   "metadata": {},
   "source": [
    "<div class=\"center_header\">\n",
    "\n",
    "# Exploratory data analysis (EDA):\n",
    "\n",
    "</div>\n",
    "<style>\n",
    "  .center_header {\n",
    "  line-height: 90px;\n",
    "  height: 90px;\n",
    "  border: 5px solid blue;\n",
    "  text-align: center;\n",
    "  font-size: xx-large;\n",
    "  }"
   ]
  },
  {
   "cell_type": "markdown",
   "metadata": {},
   "source": [
    "<div class=\"alert alert-block alert-info\", style= \"width: 65%;\">\n",
    "\n",
    "### checking stockcode and description relationships\n",
    "</div>"
   ]
  },
  {
   "cell_type": "code",
   "execution_count": 17,
   "metadata": {},
   "outputs": [
    {
     "name": "stdout",
     "output_type": "stream",
     "text": [
      "***********************************************************************************************\n",
      "\u001b[1m\u001b[33mChecking relationship for \tstockcode -to- description\u001b[0m\n",
      "***********************************************************************************************\n",
      "\u001b[34m*many-to-many\u001b[0m\n"
     ]
    }
   ],
   "source": [
    "check_relationship_type(data, \"stockcode\", \"description\")"
   ]
  },
  {
   "cell_type": "code",
   "execution_count": 18,
   "metadata": {},
   "outputs": [
    {
     "name": "stdout",
     "output_type": "stream",
     "text": [
      "***************************************************************************************************\n",
      "\u001b[1m\u001b[33mrechecking relationship for \tdescription -to- stockcode\u001b[0m\n",
      "***************************************************************************************************\n"
     ]
    },
    {
     "name": "stderr",
     "output_type": "stream",
     "text": [
      "100%|██████████| 5178/5178 [05:18<00:00, 16.25it/s]\n"
     ]
    },
    {
     "name": "stdout",
     "output_type": "stream",
     "text": [
      "\u001b[34m*39 'description' are related to more than one 'stockcode'\n",
      "['BATHROOM METAL SIGN', 'GINGHAM HEART DECORATION', 'COLOURING PENCILS BROWN TUBE', 'COLUMBIAN CANDLE ROUND', 'HEART T-LIGHT HOLDER', 'FAIRY CAKE PLACEMATS', 'BLUE FLOCK GLASS CANDLEHOLDER', 'RETRO PLASTIC POLKA TRAY', 'PINK FLOCK GLASS CANDLEHOLDER', \"RETRO PLASTIC 70'S TRAY\", 'PINK JEWELLED PHOTO FRAME', 'PASTEL BLUE PHOTO ALBUM', 'PASTEL PINK PHOTO ALBUM', 'METAL SIGN,CUPCAKE SINGLE HOOK', 'ACRYLIC JEWEL SNOWFLAKE,BLUE', 'EAU DE NILE JEWELLED PHOTOFRAME', 'RETRO PLASTIC DAISY TRAY', 'FROSTED WHITE BASE', 'FRENCH FLORAL CUSHION COVER', 'BLACK SILOUETTE CANDLE PLATE', 'WHITE BAMBOO RIBS LAMPSHADE', 'PINK FLOWERS RABBIT EASTER', 'ROSE DU SUD CUSHION COVER', 'SQUARE CHERRY BLOSSOM CABINET', 'COLUMBIAN CANDLE RECTANGLE', 'MODERN CHRISTMAS TREE CANDLE', 'This is a test product.', 'FRENCH PAISLEY CUSHION COVER', 'PINK FAIRY CAKE CUSHION COVER', 'FRENCH LATTICE CUSHION COVER', 'SET OF 4 FAIRY CAKE PLACEMATS', 'WATERING CAN GREEN DINOSAUR', 'WATERING CAN PINK BUNNY', 'PINK BUTTERFLY CUSHION COVER', 'SWEETHEART WIRE WALL TIDY', 'BROCANTE SHELF WITH HOOKS', 'PAPER LANTERN 9 POINT SNOW STAR', 'STORAGE TIN VINTAGE LEAF', 'ROUND BLUE CLOCK WITH SUCKER']\u001b[0m\n",
      "***************************************************************************************************\n",
      "\u001b[1m\u001b[33mrechecking relationship for \tstockcode -to- description\u001b[0m\n",
      "***************************************************************************************************\n"
     ]
    },
    {
     "name": "stderr",
     "output_type": "stream",
     "text": [
      "100%|██████████| 4575/4575 [05:05<00:00, 14.96it/s]"
     ]
    },
    {
     "name": "stdout",
     "output_type": "stream",
     "text": [
      "\u001b[34m*593 'stockcode' are related to more than one 'description'\n",
      "['21232', '21523', '22350', '22349', '22195', '22353', '48173C', '21181', '22139', '22352', '85014A', '85014B', '22333', '85232B', '22321', '21955', '84899E', '85123A', '22029', '20754', '21035', '82001S', '21041', '35916B', '22180', '22241', '22199', '22083', '21485', '21928', '85099B', '22356', '20724', '21592', '20725', '21217', '84946', '22090', '22179', '22232', '82486', '21212', '21707', '21710', '21708', '21706', '21711', '20752', '48185', '84997D', '84997C', '71477', '47591D', '84997A', '21245', '21241', '21584', '47591A', '84997B', '84951A', '21244', '20675', '48187', '22080', '82600', '21588', '21818', '48111', '20685', '48194', '21495', '20677', '20676', '21175', '22197', '21238', '21240', '21239', '21498', '21537', '20718', '21539', '21527', '21533', '21531', '20914', '21242', '21535', '21844', '22073', '22072', '20682', '48129', '20622', '21122', '21124', '21004', '21500', '72801E', '21980', '22071', '22070', '21540', '21786', '20975', '85227', '21561', '22355', '48188', '48184', '72801G', '21080', '22201', '22348', '47591B', '22196', '84968C', '84968F', '84968B', '20979', '20983', '85232A', '20750', '20665', '21210', '21039', '20681', '35962', '21156', '21524', '48197', '21530', '84509A', '21986', '47591C', '21216', '21243', '21155', '21499', '21246', '84984D', '48189', '48116', '22347', '84508A', '21121', '21843', '21398', '16161U', '21042', '20658', '72814', '85184C', '21112', '22167', '37343', '22193', '22191', '21811', '22246', '84509B', '71459', '22134', '22322', '21154', '21286', '21529', '21746', '20674', '22198', '21558', '21709', '22344', '22346', '22345', '22343', '72817', '21249', '84968E', '71053', '22354', '22227', '22135', '16012', '22200', '22202', '21880', '21507', '84510C', '84828', '21391', '84969', '21559', '47592A', '47593B', '22129', '21291', '79030G', '85185B', '72750A', '90014C', '22059', '21285', '21123', '22166', '21629', '22310', '21620', '21157', '82605', '22292', '22287', '22286', '21284', '21936', '22204', '84509G', '47592B', '21392', '22291', '84906', '21899', '81950B', '81950V', '37482P', '22045', '17107D', '21399', '72801D', '72800D', '72800B', '84509F', '84509C', '72586', '20652', '21397', '84918', '21109', '85144', '22285', '18094C', '21395', '47593A', '20615', '72800C', '20661', '22094', '22168', '79030D', '84968D', '17129F', '22244', '84919', '84984C', '22293', '22252', '22242', '84968A', '72801C', '72812', '22243', '22360', '22268', '72750B', '21749', '48138', '81952V', '84905', '84907', '85131D', '47310M', '48103', '79051A', '90014A', '90014B', '22365', '22366', '22288', '22326', '22328', '84984A', '84984B', '21393', '22289', '22329', '22367', '22414', '16156L', '84951B', '81952B', '44235', '84450B', '37330', '22383', '22382', '15058A', '15058B', '22381', '84509E', '22384', '21394', 'ADJUST', '90208', '22386', '84228', '22416', '37342', '22433', '22432', '22466', '22474', '22565', '22566', '22584', '22587', '22472', '22511', '22659', '22631', '22510', '22359', '22450', '22449', '22451', '22445', '22446', '22448', '37471', '22454', '22453', '22452', '22447', '22555', '22535', '21787', '22559', '22405', '22409', '22408', '22406', '22407', '22410', '22546', '22530', '22534', '22536', '22533', '22529', '22545', '22532', '22537', '22531', '22719', '16151A', '22492', '22418', '22619', '81953B', '22645', '22649', '22425', '84247E', '22667', '22579', '22578', '22577', '22602', '22595', '22588', '35817P', '22641', '22963', '22604', '22597', '22699', '22698', '22697', '22680', '22681', '22677', '22678', '22679', '22682', '22683', '22684', '22685', '22686', '22676', '84206B', '22959', '22985', '22986', '22987', '22834', '22984', '22812', '22732', '22736', '22739', '22983', '22731', '22813', '22733', '22952', '22949', '22951', '22950', '22804', '22903', '22899', '22898', '22896', '22897', '22939', '22740', '22837', '22632', '22840', '22841', '22842', '22847', '22849', '22838', '22846', '22839', '22848', '22843', '22892', '22853', '22852', '22845', '22785', '22776', '22775', '22771', '22772', '22773', '22786', '22844', '22873', '22869', '22778', '22878', '22870', '22871', '22872', '22874', '22875', '22876', '22877', '22868', '22882', '22884', '22885', '22777', '22889', '22880', '22887', '22886', '22883', '22881', '22879', '22953', '22954', '22832', '22829', '22965', '22973', '22972', '22932', '22937', '23231', '23232', '22999', '23194', '23126', '23127', '23128', '23254', '23256', '23205', '23065', '23057', '23066', '23068', '23075', '23061', '23056', '23071', '23148', '23145', '23253', '23131', '23283', '23041', '23130', '23299', '23298', '23043', '23045', '23209', '23203', '23047', '23044', '23282', '23280', '23191', '23081', '23281', '23091', '23103', '23109', '23104', '23168', '23169', '23107', '23106', '23086', '23214', '23212', '23306', '23240', '23236', '23235', '23244', '23237', '23252', '23271', '23292', '23188', '23251', '23249', '23250', '23229', '23035', '23020', '23032', '23028', '23031', '23029', '23015', '23197', '23196', '23342', '23545', '23360', '23359', '23436', '23438', '23324', '23325', '23437', '23396', '23380', '23402', '23413', '23391', '23390', '23389', '23388', '23366', '23502', '23370', '23466', '23484', '23524', '23535', '23534', '23541', '23539', '23526', '23542', '23543', '23527', '23523', '23529', '23528', '23536', '23537', '23540', '23530', '23521', '23525', '23465', '23522', '23456', '23457', '23455', '23489', '23462', '23454', '23497', '23691']\u001b[0m\n"
     ]
    },
    {
     "name": "stderr",
     "output_type": "stream",
     "text": [
      "\n"
     ]
    }
   ],
   "source": [
    "descr= recheck_relationship_type(data, \"description\", \"stockcode\")\n",
    "stockc= recheck_relationship_type(data, \"stockcode\", \"description\")"
   ]
  },
  {
   "cell_type": "code",
   "execution_count": 19,
   "metadata": {},
   "outputs": [
    {
     "name": "stdout",
     "output_type": "stream",
     "text": [
      "593\n",
      "23280: ['FOLDING BUTTERFLY MIRROR HOT PINK' 'FOLDING MIRROR HOT PINK']\n",
      "22631: ['CIRCUS PARADE LUNCHBOX' 'CIRCUS PARADE LUNCH BOX']\n",
      "22777: ['GLASS CLOCHE LARGE' 'GLASS BELL JAR LARGE']\n",
      "22383: ['LUNCHBAG SUKI  DESIGN' 'LUNCH BAG SUKI  DESIGN' 'LUNCH BAG SUKI DESIGN']\n",
      "23148: ['MINIATURE ANTIQUE ROSE HOOK IVORY' 'MINITURE ANTIQUE ROSE HOOK IVORY']\n"
     ]
    }
   ],
   "source": [
    "print(len(stockc))\n",
    "for val in random.sample(stockc, 5):\n",
    "    print(f\"{val}: {data[data[\"stockcode\"]==val][\"description\"].unique()}\")"
   ]
  },
  {
   "cell_type": "code",
   "execution_count": 20,
   "metadata": {},
   "outputs": [
    {
     "name": "stdout",
     "output_type": "stream",
     "text": [
      "39\n",
      "HEART T-LIGHT HOLDER: ['21814' '85118']\n",
      "WHITE BAMBOO RIBS LAMPSHADE: ['40001' '40002' '40003']\n",
      "FAIRY CAKE PLACEMATS: ['84509B' '84509G']\n",
      "FROSTED WHITE BASE: ['79406' '79403']\n",
      "RETRO PLASTIC 70'S TRAY: ['79192A' '79190A']\n"
     ]
    }
   ],
   "source": [
    "print(len(descr))\n",
    "for val in random.sample(descr, 5):\n",
    "    print(f\"{val}: {data[data[\"description\"]==val][\"stockcode\"].unique()}\")"
   ]
  },
  {
   "cell_type": "code",
   "execution_count": 21,
   "metadata": {},
   "outputs": [],
   "source": [
    "data.drop(columns=['stockcode'], inplace= True)"
   ]
  },
  {
   "cell_type": "markdown",
   "metadata": {},
   "source": [
    "<div class=\"alert alert-block alert-warning\",  style= \"width: 55%;>\n",
    "\n",
    "##### Findings:\n",
    "\n",
    "Here we can see that the stock code and product description don't have a 'one-to-one' relationship due to errors such as typing mistakes and the use of different synonymous words for the same product code. However, we can safely assume that they indeed have a one-to-one relationship and we can drop one of this 2 columns.<br>So we can remove the column 'stokecode'\n",
    "</div>"
   ]
  },
  {
   "cell_type": "markdown",
   "metadata": {},
   "source": [
    "<div class=\"alert alert-block alert-info\", style= \"width: 65%;\">\n",
    "\n",
    "### Checking customer and country relationships(if any customer is associated with more than one country)\n",
    "</div>"
   ]
  },
  {
   "cell_type": "code",
   "execution_count": 22,
   "metadata": {},
   "outputs": [
    {
     "name": "stdout",
     "output_type": "stream",
     "text": [
      "***********************************************************************************************\n",
      "\u001b[1m\u001b[33mChecking relationship for \tcustomerid -to- customerid\u001b[0m\n",
      "***********************************************************************************************\n",
      "\u001b[34m*many-to-many\u001b[0m\n"
     ]
    }
   ],
   "source": [
    "check_relationship_type(data, \"customerid\", \"customerid\")"
   ]
  },
  {
   "cell_type": "code",
   "execution_count": 23,
   "metadata": {},
   "outputs": [
    {
     "name": "stdout",
     "output_type": "stream",
     "text": [
      "**********************************************************************************************\n",
      "\u001b[1m\u001b[33mrechecking relationship for \tcustomerid -to- country\u001b[0m\n",
      "**********************************************************************************************\n"
     ]
    },
    {
     "name": "stderr",
     "output_type": "stream",
     "text": [
      "100%|██████████| 5772/5772 [06:39<00:00, 14.46it/s]"
     ]
    },
    {
     "name": "stdout",
     "output_type": "stream",
     "text": [
      "\u001b[34m*12 'customerid' are related to more than one 'country'\n",
      "['12417', '12455', '12422', '12431', '12370', '12429', '12423', '12449', '12457', '12652', '12413', '12394']\u001b[0m\n"
     ]
    },
    {
     "name": "stderr",
     "output_type": "stream",
     "text": [
      "\n"
     ]
    }
   ],
   "source": [
    "cust_list= recheck_relationship_type(data, \"customerid\", \"country\")"
   ]
  },
  {
   "cell_type": "code",
   "execution_count": 24,
   "metadata": {},
   "outputs": [
    {
     "name": "stdout",
     "output_type": "stream",
     "text": [
      "12417: ['Belgium' 'Spain']\n",
      "12455: ['Cyprus' 'Spain']\n",
      "12422: ['Australia' 'Switzerland']\n",
      "12431: ['Belgium' 'Australia']\n",
      "12370: ['Austria' 'Cyprus']\n",
      "12429: ['Denmark' 'Austria']\n",
      "12423: ['Denmark' 'Belgium']\n",
      "12449: ['Denmark' 'Belgium']\n",
      "12457: ['Switzerland' 'Cyprus']\n",
      "12652: ['Germany' 'France']\n",
      "12413: ['Spain' 'France']\n",
      "12394: ['Belgium' 'Denmark']\n"
     ]
    }
   ],
   "source": [
    "for val in cust_list:\n",
    "    print(f\"{val}: {data[data[\"customerid\"]==val][\"country\"].unique()}\")"
   ]
  },
  {
   "cell_type": "markdown",
   "metadata": {},
   "source": [
    "<div class=\"alert alert-block alert-warning\",  style= \"width: 55%;>\n",
    "\n",
    "##### Findings:\n",
    "\n",
    "very few customer made purched from more than one contry\n",
    "</div>"
   ]
  },
  {
   "cell_type": "markdown",
   "metadata": {},
   "source": [
    "<div class=\"alert alert-block alert-info\", style= \"width: 65%;\">\n",
    "\n",
    "### Since we have quantity and unit price, we will calculate the total price/revenue\n",
    "</div>\n",
    "\n",
    "> $ revenue= quantity * unitprice $"
   ]
  },
  {
   "cell_type": "code",
   "execution_count": 25,
   "metadata": {},
   "outputs": [
    {
     "data": {
      "text/html": [
       "<div>\n",
       "<style scoped>\n",
       "    .dataframe tbody tr th:only-of-type {\n",
       "        vertical-align: middle;\n",
       "    }\n",
       "\n",
       "    .dataframe tbody tr th {\n",
       "        vertical-align: top;\n",
       "    }\n",
       "\n",
       "    .dataframe thead th {\n",
       "        text-align: right;\n",
       "    }\n",
       "</style>\n",
       "<table border=\"1\" class=\"dataframe\">\n",
       "  <thead>\n",
       "    <tr style=\"text-align: right;\">\n",
       "      <th></th>\n",
       "      <th>invoice</th>\n",
       "      <th>description</th>\n",
       "      <th>quantity</th>\n",
       "      <th>invoicedate</th>\n",
       "      <th>price</th>\n",
       "      <th>customerid</th>\n",
       "      <th>country</th>\n",
       "      <th>invoicetime</th>\n",
       "      <th>totalprice</th>\n",
       "    </tr>\n",
       "  </thead>\n",
       "  <tbody>\n",
       "    <tr>\n",
       "      <th>652496</th>\n",
       "      <td>547134</td>\n",
       "      <td>NUMBER TILE VINTAGE FONT 4</td>\n",
       "      <td>8</td>\n",
       "      <td>2011-03-21</td>\n",
       "      <td>1.95</td>\n",
       "      <td>15996</td>\n",
       "      <td>United Kingdom</td>\n",
       "      <td>11:57:00</td>\n",
       "      <td>15.60</td>\n",
       "    </tr>\n",
       "    <tr>\n",
       "      <th>328551</th>\n",
       "      <td>521450</td>\n",
       "      <td>PICTURE FRAME WOOD TRIPLE PORTRAIT</td>\n",
       "      <td>8</td>\n",
       "      <td>2010-09-06</td>\n",
       "      <td>6.75</td>\n",
       "      <td>14442</td>\n",
       "      <td>Channel Islands</td>\n",
       "      <td>11:32:00</td>\n",
       "      <td>54.00</td>\n",
       "    </tr>\n",
       "    <tr>\n",
       "      <th>160518</th>\n",
       "      <td>504704</td>\n",
       "      <td>ROMANTIC PINKS RIBBONS</td>\n",
       "      <td>1</td>\n",
       "      <td>2010-04-15</td>\n",
       "      <td>1.25</td>\n",
       "      <td>15031</td>\n",
       "      <td>United Kingdom</td>\n",
       "      <td>19:22:00</td>\n",
       "      <td>1.25</td>\n",
       "    </tr>\n",
       "  </tbody>\n",
       "</table>\n",
       "</div>"
      ],
      "text/plain": [
       "       invoice                         description  quantity invoicedate  price customerid          country invoicetime  totalprice\n",
       "652496  547134          NUMBER TILE VINTAGE FONT 4         8  2011-03-21   1.95      15996   United Kingdom    11:57:00       15.60\n",
       "328551  521450  PICTURE FRAME WOOD TRIPLE PORTRAIT         8  2010-09-06   6.75      14442  Channel Islands    11:32:00       54.00\n",
       "160518  504704              ROMANTIC PINKS RIBBONS         1  2010-04-15   1.25      15031   United Kingdom    19:22:00        1.25"
      ]
     },
     "execution_count": 25,
     "metadata": {},
     "output_type": "execute_result"
    }
   ],
   "source": [
    "data[\"totalprice\"]= data[\"quantity\"]* data[\"price\"]\n",
    "data.sample(3)"
   ]
  },
  {
   "cell_type": "markdown",
   "metadata": {},
   "source": [
    "<div class=\"alert alert-block alert-info\", style= \"width: 65%;\">\n",
    "\n",
    "### Descriptive stats for quantitative datas:\n",
    "</div>\n"
   ]
  },
  {
   "cell_type": "code",
   "execution_count": 26,
   "metadata": {},
   "outputs": [
    {
     "name": "stdout",
     "output_type": "stream",
     "text": [
      "**********************************************************************************************************\n",
      "\u001b[1m\u001b[33mDescriptive Stats for ['quantity', 'price', 'totalprice'] :\u001b[0m\n",
      "**********************************************************************************************************\n",
      "               count       mean        std    min   25%    50%    75%     max    IQR  lower bound  upper bound\n",
      "quantity    760725.0   8.789062  10.832028  1.000  2.00   5.00  12.00    88.0  10.00      -13.000       27.000\n",
      "price       760725.0   2.901453   2.818504  0.001  1.25   1.95   3.75    20.3   2.50       -2.500        7.500\n",
      "totalprice  760725.0  16.686974  24.910600  0.001  4.95  11.70  17.88  1356.0  12.93      -14.445       37.275 \n",
      "\n",
      "\n"
     ]
    },
    {
     "data": {
      "image/png": "[encoded data removed]",
      "text/plain": [
       "<Figure size 1500x1500 with 3 Axes>"
      ]
     },
     "metadata": {},
     "output_type": "display_data"
    },
    {
     "name": "stdout",
     "output_type": "stream",
     "text": [
      "\n",
      "\n",
      "\n"
     ]
    }
   ],
   "source": [
    "get_descriptive_stats(data, ['quantity', 'price', 'totalprice'] )"
   ]
  },
  {
   "cell_type": "markdown",
   "metadata": {},
   "source": [
    "<div class=\"alert alert-block alert-info\", style= \"width: 65%;\">\n",
    "\n",
    "### Descriptive stats for qualitatitve datas:\n",
    "</div>\n"
   ]
  },
  {
   "cell_type": "code",
   "execution_count": 27,
   "metadata": {},
   "outputs": [
    {
     "name": "stdout",
     "output_type": "stream",
     "text": [
      "*******************************************************************************************************************\n",
      "\u001b[1m\u001b[33mDescriptive Stats for ['description', 'customerid', 'country'] :\u001b[0m\n",
      "*******************************************************************************************************************\n",
      "              count unique                                 top    freq\n",
      "description  760725   5178  WHITE HANGING HEART T-LIGHT HOLDER    4890\n",
      "customerid   760725   5772                               17841   12380\n",
      "country      760725     41                      United Kingdom  686682 \n",
      "\n",
      "\n"
     ]
    },
    {
     "data": {
      "image/png": "[encoded data removed]",
      "text/plain": [
       "<Figure size 1500x1500 with 3 Axes>"
      ]
     },
     "metadata": {},
     "output_type": "display_data"
    },
    {
     "name": "stdout",
     "output_type": "stream",
     "text": [
      "\n",
      "\n",
      "\n"
     ]
    }
   ],
   "source": [
    "get_descriptive_stats(data, ['description', 'customerid', 'country'] )"
   ]
  },
  {
   "cell_type": "markdown",
   "metadata": {},
   "source": [
    "<div class=\"center_header\">\n",
    "\n",
    "# RFM analysis:\n",
    "\n",
    "</div>\n",
    "\n",
    "\n",
    "<div class=\"alert alert-block alert-success\">\n",
    "\n",
    "`Here:`\n",
    "\n",
    "-  T --> Interpurchase Time\n",
    "- L --> Shopping Cycle\n",
    "- F --> Frequency\n",
    "- T1 --> First purchase\n",
    "- Tn --> Last purchase\n",
    "- $ T = L/(F-1) = (Tn - T1)/(F-1) $\n",
    "</div>\n",
    "\n",
    "<style>\n",
    "  .center_header {\n",
    "  line-height: 90px;\n",
    "  height: 90px;\n",
    "  border: 5px solid blue;\n",
    "  text-align: center;\n",
    "  font-size: xx-large;\n",
    "  }\n",
    "</style>"
   ]
  },
  {
   "cell_type": "code",
   "execution_count": 28,
   "metadata": {},
   "outputs": [
    {
     "name": "stdout",
     "output_type": "stream",
     "text": [
      "****************************************\n",
      "\u001b[1m\u001b[33mRMF dataset prepartion\u001b[0m\n",
      "****************************************\n",
      "\u001b[34m*Date starts from: 2009-12-01 to 2011-12-09\u001b[0m\n",
      "\u001b[2m\u001b[31m*We are only conside the customers who made more than one purchase\u001b[0m\n",
      "Sample data:\n",
      "      customerid  recency  frequency  monetary  interpurchase_time\n",
      "3828      16287      169          5    896.46                 104\n",
      "5542      18055        7         14  10073.52                  29\n",
      "5419      17926      133          5   1035.49                  89\n"
     ]
    },
    {
     "data": {
      "image/png": "[encoded data removed]",
      "text/plain": [
       "<Figure size 800x1500 with 3 Axes>"
      ]
     },
     "metadata": {},
     "output_type": "display_data"
    }
   ],
   "source": [
    "RFM= get_rmf_data_set(data)"
   ]
  },
  {
   "cell_type": "markdown",
   "metadata": {},
   "source": [
    "<div class=\"alert alert-block alert-success\", style= \"width: 65%;\">\n",
    "\n",
    "- calculating R,F,M,T score based on quartiles \n",
    "- rfm_score= R+F+M\n",
    "- rfm_score: Label\n",
    "     - 01 - 03: Silver\n",
    "     - 03 - 05: Gold\n",
    "     - 05 - 09: Platinum\n",
    "     - 09 - 12: Diamond\n",
    "</div>"
   ]
  },
  {
   "cell_type": "code",
   "execution_count": 29,
   "metadata": {},
   "outputs": [
    {
     "name": "stdout",
     "output_type": "stream",
     "text": [
      "*************************************************\n",
      "\u001b[1m\u001b[33mdfT score :                \u001b[0m\n",
      "*************************************************\n",
      "\u001b[34m*max rmf_score: 12\n",
      "min rmf_score: 3\u001b[0m\n",
      "sample:\n",
      "     customerid  recency  frequency  monetary  interpurchase_time  R  F  M  T  rfm_score     label\n",
      "2837      15269       23          3    935.36                 122  2  2  2  4          6  Platinum\n",
      "4525      17005      470          2    415.00                  59  4  1  1  3          6  Platinum\n",
      "3215      15656       45          4    748.50                  59  2  2  2  3          6  Platinum\n",
      "636       12998      492          3    771.76                  53  4  2  2  2          8  Platinum\n"
     ]
    }
   ],
   "source": [
    "RFM_with_score= rfm_score_calculate(RFM)"
   ]
  },
  {
   "cell_type": "code",
   "execution_count": 30,
   "metadata": {},
   "outputs": [
    {
     "name": "stdout",
     "output_type": "stream",
     "text": [
      "  Platinum  Diamond  Gold  Silver\n",
      "      2948      628   531      67\n"
     ]
    },
    {
     "data": {
      "image/png": "[encoded data removed]",
      "text/plain": [
       "<Figure size 640x480 with 1 Axes>"
      ]
     },
     "metadata": {},
     "output_type": "display_data"
    }
   ],
   "source": [
    "barplot = dict(RFM_with_score['label'].value_counts())\n",
    "bar_names = list(barplot.keys())\n",
    "bar_values = list(barplot.values())\n",
    "plt.bar(bar_names,bar_values)\n",
    "print(pd.DataFrame(barplot, index=[' ']))"
   ]
  },
  {
   "cell_type": "markdown",
   "metadata": {},
   "source": [
    "<div class=\"center_header\">\n",
    "\n",
    "# Choropleth Map:\n",
    "\n",
    "</div>\n",
    "\n",
    "find the dataset for map cordination here __[here](https://www.naturalearthdata.com/http//www.naturalearthdata.com/download/10m/cultural/ne_10m_admin_0_countries.zip)__\n",
    "<style>\n",
    "  .center_header {\n",
    "  line-height: 90px;\n",
    "  height: 90px;\n",
    "  border: 5px solid blue;\n",
    "  text-align: center;\n",
    "  font-size: xx-large;\n",
    "  }\n",
    "</style>"
   ]
  },
  {
   "cell_type": "code",
   "execution_count": 32,
   "metadata": {},
   "outputs": [],
   "source": [
    "# merged_df= choropleth_map_plot(data, map_source_url)"
   ]
  },
  {
   "cell_type": "code",
   "execution_count": null,
   "metadata": {},
   "outputs": [],
   "source": []
  }
 ],
 "metadata": {
  "kernelspec": {
   "display_name": "Python 3",
   "language": "python",
   "name": "python3"
  },
  "language_info": {
   "codemirror_mode": {
    "name": "ipython",
    "version": 3
   },
   "file_extension": ".py",
   "mimetype": "text/x-python",
   "name": "python",
   "nbconvert_exporter": "python",
   "pygments_lexer": "ipython3",
   "version": "3.12.0"
  }
 },
 "nbformat": 4,
 "nbformat_minor": 2
}
