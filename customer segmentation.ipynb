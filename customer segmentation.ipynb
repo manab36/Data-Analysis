{
 "cells": [
  {
   "cell_type": "code",
   "execution_count": 218,
   "metadata": {},
   "outputs": [],
   "source": [
    "from include.customer_segmentation_functions import *"
   ]
  },
  {
   "cell_type": "markdown",
   "metadata": {},
   "source": [
    "dataset: https://www.kaggle.com/datasets/mashlyn/online-retail-ii-uci/data"
   ]
  },
  {
   "cell_type": "code",
   "execution_count": 193,
   "metadata": {},
   "outputs": [],
   "source": [
    "data_file= R\"DataSets\\online_retail_II.csv\"\n",
    "main_data= pd.read_csv(data_file,encoding ='cp1252')\n",
    "data= main_data#.sample(10000)"
   ]
  },
  {
   "cell_type": "markdown",
   "metadata": {},
   "source": [
    "\n",
    "\n",
    "https://www.kaggle.com/datasets/allen-institute-for-ai/CORD-19-research-challenge"
   ]
  },
  {
   "cell_type": "markdown",
   "metadata": {},
   "source": [
    "# `General view of the data:`"
   ]
  },
  {
   "cell_type": "code",
   "execution_count": 194,
   "metadata": {},
   "outputs": [
    {
     "data": {
      "text/html": [
       "<div>\n",
       "<style scoped>\n",
       "    .dataframe tbody tr th:only-of-type {\n",
       "        vertical-align: middle;\n",
       "    }\n",
       "\n",
       "    .dataframe tbody tr th {\n",
       "        vertical-align: top;\n",
       "    }\n",
       "\n",
       "    .dataframe thead th {\n",
       "        text-align: right;\n",
       "    }\n",
       "</style>\n",
       "<table border=\"1\" class=\"dataframe\">\n",
       "  <thead>\n",
       "    <tr style=\"text-align: right;\">\n",
       "      <th></th>\n",
       "      <th>Invoice</th>\n",
       "      <th>StockCode</th>\n",
       "      <th>Description</th>\n",
       "      <th>Quantity</th>\n",
       "      <th>InvoiceDate</th>\n",
       "      <th>Price</th>\n",
       "      <th>Customer ID</th>\n",
       "      <th>Country</th>\n",
       "    </tr>\n",
       "  </thead>\n",
       "  <tbody>\n",
       "    <tr>\n",
       "      <th>659541</th>\n",
       "      <td>547822</td>\n",
       "      <td>22895</td>\n",
       "      <td>SET OF 2 TEA TOWELS APPLE AND PEARS</td>\n",
       "      <td>6</td>\n",
       "      <td>2011-03-25 14:53:00</td>\n",
       "      <td>2.95</td>\n",
       "      <td>12668.0</td>\n",
       "      <td>Germany</td>\n",
       "    </tr>\n",
       "    <tr>\n",
       "      <th>586808</th>\n",
       "      <td>541424</td>\n",
       "      <td>84707A</td>\n",
       "      <td>SILVER JEWELLED MIRROR TRINKET TRAY</td>\n",
       "      <td>1</td>\n",
       "      <td>2011-01-17 17:57:00</td>\n",
       "      <td>5.79</td>\n",
       "      <td>NaN</td>\n",
       "      <td>United Kingdom</td>\n",
       "    </tr>\n",
       "    <tr>\n",
       "      <th>1056687</th>\n",
       "      <td>580908</td>\n",
       "      <td>84086B</td>\n",
       "      <td>YELLOW/BLUE RETRO RADIO</td>\n",
       "      <td>1</td>\n",
       "      <td>2011-12-06 13:20:00</td>\n",
       "      <td>2.95</td>\n",
       "      <td>16495.0</td>\n",
       "      <td>United Kingdom</td>\n",
       "    </tr>\n",
       "  </tbody>\n",
       "</table>\n",
       "</div>"
      ],
      "text/plain": [
       "        Invoice StockCode                          Description  Quantity          InvoiceDate  Price  Customer ID         Country\n",
       "659541   547822     22895  SET OF 2 TEA TOWELS APPLE AND PEARS         6  2011-03-25 14:53:00   2.95      12668.0         Germany\n",
       "586808   541424    84707A  SILVER JEWELLED MIRROR TRINKET TRAY         1  2011-01-17 17:57:00   5.79          NaN  United Kingdom\n",
       "1056687  580908    84086B              YELLOW/BLUE RETRO RADIO         1  2011-12-06 13:20:00   2.95      16495.0  United Kingdom"
      ]
     },
     "execution_count": 194,
     "metadata": {},
     "output_type": "execute_result"
    }
   ],
   "source": [
    "data.sample(3)"
   ]
  },
  {
   "cell_type": "code",
   "execution_count": 195,
   "metadata": {},
   "outputs": [
    {
     "name": "stdout",
     "output_type": "stream",
     "text": [
      "<class 'pandas.core.frame.DataFrame'>\n",
      "RangeIndex: 1067371 entries, 0 to 1067370\n",
      "Data columns (total 8 columns):\n",
      " #   Column       Non-Null Count    Dtype  \n",
      "---  ------       --------------    -----  \n",
      " 0   Invoice      1067371 non-null  object \n",
      " 1   StockCode    1067371 non-null  object \n",
      " 2   Description  1062989 non-null  object \n",
      " 3   Quantity     1067371 non-null  int64  \n",
      " 4   InvoiceDate  1067371 non-null  object \n",
      " 5   Price        1067371 non-null  float64\n",
      " 6   Customer ID  824364 non-null   float64\n",
      " 7   Country      1067371 non-null  object \n",
      "dtypes: float64(2), int64(1), object(5)\n",
      "memory usage: 65.1+ MB\n"
     ]
    }
   ],
   "source": [
    "data.info()"
   ]
  },
  {
   "cell_type": "code",
   "execution_count": 196,
   "metadata": {},
   "outputs": [
    {
     "data": {
      "text/html": [
       "<div>\n",
       "<style scoped>\n",
       "    .dataframe tbody tr th:only-of-type {\n",
       "        vertical-align: middle;\n",
       "    }\n",
       "\n",
       "    .dataframe tbody tr th {\n",
       "        vertical-align: top;\n",
       "    }\n",
       "\n",
       "    .dataframe thead th {\n",
       "        text-align: right;\n",
       "    }\n",
       "</style>\n",
       "<table border=\"1\" class=\"dataframe\">\n",
       "  <thead>\n",
       "    <tr style=\"text-align: right;\">\n",
       "      <th></th>\n",
       "      <th>count</th>\n",
       "      <th>unique</th>\n",
       "      <th>top</th>\n",
       "      <th>freq</th>\n",
       "      <th>mean</th>\n",
       "      <th>std</th>\n",
       "      <th>min</th>\n",
       "      <th>25%</th>\n",
       "      <th>50%</th>\n",
       "      <th>75%</th>\n",
       "      <th>max</th>\n",
       "    </tr>\n",
       "  </thead>\n",
       "  <tbody>\n",
       "    <tr>\n",
       "      <th>Invoice</th>\n",
       "      <td>1067371</td>\n",
       "      <td>53628</td>\n",
       "      <td>537434</td>\n",
       "      <td>1350</td>\n",
       "      <td>NaN</td>\n",
       "      <td>NaN</td>\n",
       "      <td>NaN</td>\n",
       "      <td>NaN</td>\n",
       "      <td>NaN</td>\n",
       "      <td>NaN</td>\n",
       "      <td>NaN</td>\n",
       "    </tr>\n",
       "    <tr>\n",
       "      <th>StockCode</th>\n",
       "      <td>1067371</td>\n",
       "      <td>5305</td>\n",
       "      <td>85123A</td>\n",
       "      <td>5829</td>\n",
       "      <td>NaN</td>\n",
       "      <td>NaN</td>\n",
       "      <td>NaN</td>\n",
       "      <td>NaN</td>\n",
       "      <td>NaN</td>\n",
       "      <td>NaN</td>\n",
       "      <td>NaN</td>\n",
       "    </tr>\n",
       "    <tr>\n",
       "      <th>Description</th>\n",
       "      <td>1062989</td>\n",
       "      <td>5698</td>\n",
       "      <td>WHITE HANGING HEART T-LIGHT HOLDER</td>\n",
       "      <td>5918</td>\n",
       "      <td>NaN</td>\n",
       "      <td>NaN</td>\n",
       "      <td>NaN</td>\n",
       "      <td>NaN</td>\n",
       "      <td>NaN</td>\n",
       "      <td>NaN</td>\n",
       "      <td>NaN</td>\n",
       "    </tr>\n",
       "    <tr>\n",
       "      <th>Quantity</th>\n",
       "      <td>1067371.0</td>\n",
       "      <td>NaN</td>\n",
       "      <td>NaN</td>\n",
       "      <td>NaN</td>\n",
       "      <td>9.938898</td>\n",
       "      <td>172.705794</td>\n",
       "      <td>-80995.0</td>\n",
       "      <td>1.0</td>\n",
       "      <td>3.0</td>\n",
       "      <td>10.0</td>\n",
       "      <td>80995.0</td>\n",
       "    </tr>\n",
       "    <tr>\n",
       "      <th>InvoiceDate</th>\n",
       "      <td>1067371</td>\n",
       "      <td>47635</td>\n",
       "      <td>2010-12-06 16:57:00</td>\n",
       "      <td>1350</td>\n",
       "      <td>NaN</td>\n",
       "      <td>NaN</td>\n",
       "      <td>NaN</td>\n",
       "      <td>NaN</td>\n",
       "      <td>NaN</td>\n",
       "      <td>NaN</td>\n",
       "      <td>NaN</td>\n",
       "    </tr>\n",
       "    <tr>\n",
       "      <th>Price</th>\n",
       "      <td>1067371.0</td>\n",
       "      <td>NaN</td>\n",
       "      <td>NaN</td>\n",
       "      <td>NaN</td>\n",
       "      <td>4.649388</td>\n",
       "      <td>123.553059</td>\n",
       "      <td>-53594.36</td>\n",
       "      <td>1.25</td>\n",
       "      <td>2.1</td>\n",
       "      <td>4.15</td>\n",
       "      <td>38970.0</td>\n",
       "    </tr>\n",
       "    <tr>\n",
       "      <th>Customer ID</th>\n",
       "      <td>824364.0</td>\n",
       "      <td>NaN</td>\n",
       "      <td>NaN</td>\n",
       "      <td>NaN</td>\n",
       "      <td>15324.638504</td>\n",
       "      <td>1697.46445</td>\n",
       "      <td>12346.0</td>\n",
       "      <td>13975.0</td>\n",
       "      <td>15255.0</td>\n",
       "      <td>16797.0</td>\n",
       "      <td>18287.0</td>\n",
       "    </tr>\n",
       "    <tr>\n",
       "      <th>Country</th>\n",
       "      <td>1067371</td>\n",
       "      <td>43</td>\n",
       "      <td>United Kingdom</td>\n",
       "      <td>981330</td>\n",
       "      <td>NaN</td>\n",
       "      <td>NaN</td>\n",
       "      <td>NaN</td>\n",
       "      <td>NaN</td>\n",
       "      <td>NaN</td>\n",
       "      <td>NaN</td>\n",
       "      <td>NaN</td>\n",
       "    </tr>\n",
       "  </tbody>\n",
       "</table>\n",
       "</div>"
      ],
      "text/plain": [
       "                 count unique                                 top    freq          mean         std       min      25%      50%      75%      max\n",
       "Invoice        1067371  53628                              537434    1350           NaN         NaN       NaN      NaN      NaN      NaN      NaN\n",
       "StockCode      1067371   5305                              85123A    5829           NaN         NaN       NaN      NaN      NaN      NaN      NaN\n",
       "Description    1062989   5698  WHITE HANGING HEART T-LIGHT HOLDER    5918           NaN         NaN       NaN      NaN      NaN      NaN      NaN\n",
       "Quantity     1067371.0    NaN                                 NaN     NaN      9.938898  172.705794  -80995.0      1.0      3.0     10.0  80995.0\n",
       "InvoiceDate    1067371  47635                 2010-12-06 16:57:00    1350           NaN         NaN       NaN      NaN      NaN      NaN      NaN\n",
       "Price        1067371.0    NaN                                 NaN     NaN      4.649388  123.553059 -53594.36     1.25      2.1     4.15  38970.0\n",
       "Customer ID   824364.0    NaN                                 NaN     NaN  15324.638504  1697.46445   12346.0  13975.0  15255.0  16797.0  18287.0\n",
       "Country        1067371     43                      United Kingdom  981330           NaN         NaN       NaN      NaN      NaN      NaN      NaN"
      ]
     },
     "execution_count": 196,
     "metadata": {},
     "output_type": "execute_result"
    }
   ],
   "source": [
    "data.describe(include=\"all\").T"
   ]
  },
  {
   "cell_type": "markdown",
   "metadata": {},
   "source": [
    "# `Data Preprocessing:`\n",
    "which involves removing null data, duplicates, unwanted column, etc"
   ]
  },
  {
   "cell_type": "code",
   "execution_count": 197,
   "metadata": {},
   "outputs": [
    {
     "data": {
      "text/html": [
       "<div>\n",
       "<style scoped>\n",
       "    .dataframe tbody tr th:only-of-type {\n",
       "        vertical-align: middle;\n",
       "    }\n",
       "\n",
       "    .dataframe tbody tr th {\n",
       "        vertical-align: top;\n",
       "    }\n",
       "\n",
       "    .dataframe thead th {\n",
       "        text-align: right;\n",
       "    }\n",
       "</style>\n",
       "<table border=\"1\" class=\"dataframe\">\n",
       "  <thead>\n",
       "    <tr style=\"text-align: right;\">\n",
       "      <th></th>\n",
       "      <th>invoice</th>\n",
       "      <th>stockcode</th>\n",
       "      <th>description</th>\n",
       "      <th>quantity</th>\n",
       "      <th>invoicedate</th>\n",
       "      <th>price</th>\n",
       "      <th>customerid</th>\n",
       "      <th>country</th>\n",
       "    </tr>\n",
       "  </thead>\n",
       "  <tbody>\n",
       "    <tr>\n",
       "      <th>444606</th>\n",
       "      <td>531769</td>\n",
       "      <td>21364</td>\n",
       "      <td>PEACE SMALL WOOD LETTERS</td>\n",
       "      <td>3</td>\n",
       "      <td>2010-11-09 14:11:00</td>\n",
       "      <td>6.75</td>\n",
       "      <td>16400.0</td>\n",
       "      <td>United Kingdom</td>\n",
       "    </tr>\n",
       "    <tr>\n",
       "      <th>967335</th>\n",
       "      <td>574657</td>\n",
       "      <td>22421</td>\n",
       "      <td>LIPSTICK PEN FUSCHIA</td>\n",
       "      <td>1</td>\n",
       "      <td>2011-11-06 11:43:00</td>\n",
       "      <td>0.42</td>\n",
       "      <td>13772.0</td>\n",
       "      <td>United Kingdom</td>\n",
       "    </tr>\n",
       "    <tr>\n",
       "      <th>66515</th>\n",
       "      <td>495331</td>\n",
       "      <td>72739C</td>\n",
       "      <td>DARK CHOCOLATE SCENTCANDLE</td>\n",
       "      <td>2</td>\n",
       "      <td>2010-01-22 16:28:00</td>\n",
       "      <td>1.25</td>\n",
       "      <td>17799.0</td>\n",
       "      <td>United Kingdom</td>\n",
       "    </tr>\n",
       "  </tbody>\n",
       "</table>\n",
       "</div>"
      ],
      "text/plain": [
       "       invoice stockcode                 description  quantity         invoicedate  price  customerid         country\n",
       "444606  531769     21364    PEACE SMALL WOOD LETTERS         3 2010-11-09 14:11:00   6.75     16400.0  United Kingdom\n",
       "967335  574657     22421        LIPSTICK PEN FUSCHIA         1 2011-11-06 11:43:00   0.42     13772.0  United Kingdom\n",
       "66515   495331    72739C  DARK CHOCOLATE SCENTCANDLE         2 2010-01-22 16:28:00   1.25     17799.0  United Kingdom"
      ]
     },
     "execution_count": 197,
     "metadata": {},
     "output_type": "execute_result"
    }
   ],
   "source": [
    "#cahnging col name\n",
    "data.rename(columns = {x:x.lower().replace(' ','') for x in data.columns}, inplace = True)\n",
    "\n",
    "#change datatype\n",
    "data['quantity'] = pd.to_numeric(data['quantity'])\n",
    "data['price'] = pd.to_numeric(data['price'])\n",
    "data[\"invoicedate\"]=pd.to_datetime(data[\"invoicedate\"])\n",
    "\n",
    "#removing extra white spaces\n",
    "data[\"description\"]= data[\"description\"].str.strip()\n",
    "data.sample(3)"
   ]
  },
  {
   "cell_type": "code",
   "execution_count": 198,
   "metadata": {},
   "outputs": [
    {
     "name": "stdout",
     "output_type": "stream",
     "text": [
      "****************************************\n",
      "\u001b[1m\u001b[33mcolumn name: stockcode\u001b[0m\n",
      "****************************************\n",
      "    number of 'NaN' value: 0\n",
      "percentage of 'NaN' value: 0.0%\n",
      "   number of unique value: 5305\n",
      "    number of total value: 1067371 (including none)\n",
      "   number of total Values: 1067371\n",
      "\n",
      "\n",
      "*******************************************\n",
      "\u001b[1m\u001b[33mcolumn name: description\u001b[0m\n",
      "*******************************************\n",
      "    number of 'NaN' value: 4382\n",
      "percentage of 'NaN' value: 0.41%\n",
      "   number of unique value: 5655\n",
      "    number of total value: 1067371 (including none)\n",
      "   number of total Values: 1062989\n",
      "\n",
      "\n",
      "**************************************\n",
      "\u001b[1m\u001b[33mcolumn name: quantity\u001b[0m\n",
      "**************************************\n",
      "    number of 'NaN' value: 0\n",
      "percentage of 'NaN' value: 0.0%\n",
      "   number of unique value: 1057\n",
      "    number of total value: 1067371 (including none)\n",
      "   number of total Values: 1067371\n",
      "\n",
      "\n",
      "********************************\n",
      "\u001b[1m\u001b[33mcolumn name: price\u001b[0m\n",
      "********************************\n",
      "    number of 'NaN' value: 0\n",
      "percentage of 'NaN' value: 0.0%\n",
      "   number of unique value: 2807\n",
      "    number of total value: 1067371 (including none)\n",
      "   number of total Values: 1067371\n",
      "\n",
      "\n",
      "*****************************************\n",
      "\u001b[1m\u001b[33mcolumn name: customerid\u001b[0m\n",
      "*****************************************\n",
      "    number of 'NaN' value: 243007\n",
      "percentage of 'NaN' value: 22.77%\n",
      "   number of unique value: 5942\n",
      "    number of total value: 1067371 (including none)\n",
      "   number of total Values: 824364\n",
      "\n",
      "\n"
     ]
    }
   ],
   "source": [
    "for col_name in [\"stockcode\", \"description\", \"quantity\", \"price\", \"customerid\"]:\n",
    "    get_value_counts(data, col_name)"
   ]
  },
  {
   "cell_type": "code",
   "execution_count": 199,
   "metadata": {},
   "outputs": [
    {
     "name": "stdout",
     "output_type": "stream",
     "text": [
      "***************************************************************\n",
      "\u001b[1m\u001b[33mdroping rows where customerid = NaN\u001b[0m\n",
      "***************************************************************\n",
      "\u001b[2m\u001b[31mRow counts before droping 'NaN' values: 1067371\u001b[0m\n",
      "\u001b[2m\u001b[31m Row counts after droping 'NaN' values: 824364\u001b[0m\n",
      "----------------------------------------\n",
      "\u001b[2m\u001b[31m                      Total rows droped: 243007\u001b[0m\n",
      "\u001b[2m\u001b[31m              Percentage of droped rows: 22.77%\n",
      "\n",
      "\u001b[0m\n",
      "******************************************************\n",
      "\u001b[1m\u001b[33mdroping rows of canceled items\u001b[0m\n",
      "******************************************************\n",
      "\u001b[2m\u001b[31mNumber of rows before droping canceled items: 824364\u001b[0m\n",
      "\u001b[2m\u001b[31m Number of rows after droping canceled items: 805620\n",
      "\n",
      "\u001b[0m\n",
      "----------------------------------------\n",
      "\u001b[2m\u001b[31m                           Total rows droped: 18744\u001b[0m\n",
      "\u001b[2m\u001b[31m                   Percentage of droped rows: 2.27%\n",
      "\n",
      "\u001b[0m\n"
     ]
    }
   ],
   "source": [
    "data= drop_nun_val_in_col(data, \"customerid\")\n",
    "data= drop_canceled_items(data)"
   ]
  },
  {
   "cell_type": "markdown",
   "metadata": {},
   "source": [
    "## checking stockcode and description relationships"
   ]
  },
  {
   "cell_type": "code",
   "execution_count": 200,
   "metadata": {},
   "outputs": [
    {
     "name": "stdout",
     "output_type": "stream",
     "text": [
      "***********************************************************************************************\n",
      "\u001b[1m\u001b[33mChecking relationship for \tstockcode -to- description\u001b[0m\n",
      "***********************************************************************************************\n",
      "\u001b[34m*many-to-many\u001b[0m\n"
     ]
    }
   ],
   "source": [
    "check_relationship_type(data, \"stockcode\", \"description\")"
   ]
  },
  {
   "cell_type": "code",
   "execution_count": 201,
   "metadata": {},
   "outputs": [
    {
     "name": "stdout",
     "output_type": "stream",
     "text": [
      "***************************************************************************************************\n",
      "\u001b[1m\u001b[33mrechecking relationship for \tdescription -to- stockcode\u001b[0m\n",
      "***************************************************************************************************\n"
     ]
    },
    {
     "name": "stderr",
     "output_type": "stream",
     "text": [
      "100%|██████████| 5241/5241 [05:58<00:00, 14.64it/s]\n"
     ]
    },
    {
     "name": "stdout",
     "output_type": "stream",
     "text": [
      "\u001b[34m*39 'description' are related to more than one 'stockcode'\n",
      "['BATHROOM METAL SIGN', 'GINGHAM HEART DECORATION', 'COLOURING PENCILS BROWN TUBE', 'COLUMBIAN CANDLE ROUND', 'HEART T-LIGHT HOLDER', 'FAIRY CAKE PLACEMATS', 'BLUE FLOCK GLASS CANDLEHOLDER', 'RETRO PLASTIC POLKA TRAY', 'PINK FLOCK GLASS CANDLEHOLDER', \"RETRO PLASTIC 70'S TRAY\", 'PINK JEWELLED PHOTO FRAME', 'PASTEL BLUE PHOTO ALBUM', 'PASTEL PINK PHOTO ALBUM', 'METAL SIGN,CUPCAKE SINGLE HOOK', 'ACRYLIC JEWEL SNOWFLAKE,BLUE', 'EAU DE NILE JEWELLED PHOTOFRAME', 'RETRO PLASTIC DAISY TRAY', 'FROSTED WHITE BASE', 'FRENCH FLORAL CUSHION COVER', 'BLACK SILOUETTE CANDLE PLATE', 'WHITE BAMBOO RIBS LAMPSHADE', 'PINK FLOWERS RABBIT EASTER', 'ROSE DU SUD CUSHION COVER', 'SQUARE CHERRY BLOSSOM CABINET', 'COLUMBIAN CANDLE RECTANGLE', 'MODERN CHRISTMAS TREE CANDLE', 'This is a test product.', 'FRENCH PAISLEY CUSHION COVER', 'PINK FAIRY CAKE CUSHION COVER', 'FRENCH LATTICE CUSHION COVER', 'SET OF 4 FAIRY CAKE PLACEMATS', 'WATERING CAN PINK BUNNY', 'WATERING CAN GREEN DINOSAUR', 'PINK BUTTERFLY CUSHION COVER', 'SWEETHEART WIRE WALL TIDY', 'BROCANTE SHELF WITH HOOKS', 'PAPER LANTERN 9 POINT SNOW STAR', 'STORAGE TIN VINTAGE LEAF', 'ROUND BLUE CLOCK WITH SUCKER']\u001b[0m\n",
      "***************************************************************************************************\n",
      "\u001b[1m\u001b[33mrechecking relationship for \tstockcode -to- description\u001b[0m\n",
      "***************************************************************************************************\n"
     ]
    },
    {
     "name": "stderr",
     "output_type": "stream",
     "text": [
      "100%|██████████| 4631/4631 [05:32<00:00, 13.91it/s]"
     ]
    },
    {
     "name": "stdout",
     "output_type": "stream",
     "text": [
      "\u001b[34m*599 'stockcode' are related to more than one 'description'\n",
      "['21232', '21523', '22350', '22349', '22195', '22353', '48173C', '21181', '22139', '22352', '85014A', '85014B', '22333', '85232B', '22321', '21955', '84899E', '85123A', '22029', '20754', '21035', '82001S', '21041', '35916B', '22180', '22241', '22199', '22083', '21485', '21928', '85099B', '22356', '20724', '21592', '20725', '21217', '84946', '22090', '22179', '22232', '82486', '21212', '21707', '21710', '21708', '21706', '21711', '20752', '48185', '84997D', '84997C', '71477', '47591D', '84997A', '21245', '21241', '21584', '47591A', '84997B', '84951A', '21244', '20675', '48187', '22080', '82600', '21588', '21818', '48111', '20685', '48194', '21495', '20677', '20676', '21175', '22197', '21238', '21240', '21239', '21498', '21537', '20718', '21539', '21527', '21533', '21531', '20914', '21242', '21535', '21844', '22073', '22072', '20682', '48129', '20622', '21122', '21124', '21004', '21500', '72801E', '21980', '22071', '22070', '21540', '21786', '20975', '85227', '21561', '22355', '48188', '48184', '72801G', '21080', '22201', '22348', '47591B', '22196', '84968C', '84968F', '84968B', '20979', '20983', '85232A', '20750', '20665', '21210', '21039', '20681', '35962', '21156', '21524', '48197', '21530', '84509A', '21986', '47591C', '21216', '21243', '21155', '21499', '21246', '84984D', '48189', '48116', '22347', '84508A', '21121', '21843', '21398', '16161U', '21042', '20658', '72814', '85184C', '21112', '22167', '37343', '22193', '22191', '21811', '22246', '84509B', '71459', '22134', '22322', '21154', '21286', '21529', '21746', '20674', '22198', '21558', '21709', '22344', '22346', '22345', '22343', '72817', '21249', '22175', '22176', '84968E', '71053', '22354', '22227', '22135', '16012', '22200', '22202', '21880', '21507', '84510C', '84828', '21391', '84969', '21559', '47592A', '47593B', '22129', '21291', '79030G', '85185B', '72750A', '90014C', '22059', '21285', '21123', '22166', '21629', '22310', '21620', '21157', '82605', '22292', '22287', '22286', '21284', '21936', '22204', '84509G', '47592B', '21392', '22291', '84906', '21899', '81950B', '81950V', '22323', '37482P', '22045', '22324', '17107D', '21399', '72801D', '72800D', '72800B', '84509F', '84509C', '72586', '20652', '21397', '84918', '21109', '85144', '22285', '18094C', '21395', '47593A', '20615', '72800C', '20661', '22094', '22168', '79030D', '84968D', '17129F', '22244', '84919', '84984C', '22293', '22252', '22242', '84968A', '72801C', '72812', '22243', '22360', '22268', '72750B', '21749', '48138', '81952V', '84905', '84907', '85131D', '47310M', '48103', '79051A', '90014A', '90014B', '22365', '22366', '22288', '22326', '22328', '84984A', '84984B', '21393', '22289', '22329', '22367', '22414', '16156L', '84951B', '81952B', '44235', '84450B', '37330', '22383', '22382', '15058A', '15058B', '22381', '84509E', '22384', '21394', 'ADJUST', '90208', '22386', '84228', '22416', '37342', '22432', '22433', '22466', '22474', '22587', '22565', '22566', '22584', '22472', '22511', '22659', '22631', '22510', '22359', '22450', '22449', '22451', '22445', '22446', '22448', '37471', '22454', '22453', '22452', '22447', '22555', '22535', '21787', '22559', '22546', '22545', '22405', '22409', '22408', '22406', '22407', '22410', '22530', '22534', '22536', '22533', '22529', '22532', '22537', '22531', '22719', '16151A', '22492', '22418', '22619', '81953B', '35817P', '22645', '22649', '22425', '22502', '84247E', '22667', '22602', '22595', '22588', '22579', '22578', '22577', '22641', '22963', '22604', '22597', '22699', '22698', '22697', '22680', '22681', '22677', '22678', '22679', '22682', '22683', '22684', '22685', '22686', '22676', '84206B', '22959', '22985', '22986', '22987', '22834', '22984', '22812', '22732', '22736', '22739', '22983', '22731', '22813', '22733', '22952', '22949', '22951', '22950', '22632', '22804', '22903', '22899', '22898', '22896', '22897', '22939', '22740', '22837', '22840', '22841', '22842', '22847', '22849', '22838', '22846', '22839', '22848', '22843', '22892', '22853', '22852', '22845', '22785', '22776', '22775', '22771', '22772', '22773', '22786', '22844', '22873', '22869', '22778', '22878', '22870', '22871', '22872', '22874', '22875', '22876', '22877', '22868', '22882', '22827', '22884', '22885', '22777', '22889', '22880', '22887', '22886', '22883', '22881', '22879', '22953', '22954', '22832', '22829', '22965', '22973', '22972', '22932', '22937', '23231', '23232', '22999', '23194', '23126', '23127', '23128', '23254', '23256', '23205', '23065', '23057', '23066', '23068', '23075', '23061', '23056', '23071', '23148', '23145', '23253', '23131', '23283', '23041', '23130', '23299', '23298', '23043', '23045', '23209', '23203', '23047', '23044', '23282', '23280', '23191', '23081', '23281', '23091', '23109', '23103', '23104', '23168', '23169', '23107', '23106', '23086', '23214', '23212', '23306', '23240', '23236', '23235', '23244', '23237', '23252', '23271', '23292', '23188', '23251', '23249', '23250', '23229', '23035', '23020', '23032', '23028', '23031', '23029', '23015', '23197', '23196', '23342', '23545', '23360', '23359', '23436', '23438', '23324', '23325', '23437', '23396', '23380', '23402', '23413', '23391', '23390', '23389', '23388', '23366', '23502', '23370', '23466', '23484', '23524', '23535', '23534', '23541', '23539', '23522', '23526', '23542', '23528', '23543', '23530', '23521', '23523', '23527', '23529', '23536', '23525', '23540', '23537', '23465', '23456', '23457', '23455', '23489', '23462', '23454', '23497', '23691']\u001b[0m\n"
     ]
    },
    {
     "name": "stderr",
     "output_type": "stream",
     "text": [
      "\n"
     ]
    }
   ],
   "source": [
    "descr= recheck_relationship_type(data, \"description\", \"stockcode\")\n",
    "stockc= recheck_relationship_type(data, \"stockcode\", \"description\")"
   ]
  },
  {
   "cell_type": "code",
   "execution_count": 202,
   "metadata": {},
   "outputs": [
    {
     "name": "stdout",
     "output_type": "stream",
     "text": [
      "599\n",
      "21242: ['RED SPOTTY PLATE' 'RED RETROSPOT PLATE']\n",
      "22847: ['BREAD BIN, DINER STYLE, IVORY' 'BREAD BIN DINER STYLE IVORY']\n",
      "22453: ['MEASURING TAPE RUSSIAN DOLL BLUE' 'MEASURING TAPE BABUSHKA BLUE']\n",
      "23056: ['FLOWERS CHANDELIER T-LIGHT HOLDER' 'CRYSTAL CHANDELIER T-LIGHT HOLDER']\n",
      "22382: ['LUNCHBAG SPACEBOY DESIGN' 'LUNCH BAG SPACEBOY DESIGN']\n"
     ]
    }
   ],
   "source": [
    "print(len(stockc))\n",
    "for val in random.sample(stockc, 5):\n",
    "    print(f\"{val}: {data[data[\"stockcode\"]==val][\"description\"].unique()}\")"
   ]
  },
  {
   "cell_type": "code",
   "execution_count": 203,
   "metadata": {},
   "outputs": [
    {
     "name": "stdout",
     "output_type": "stream",
     "text": [
      "39\n",
      "COLOURING PENCILS BROWN TUBE: ['10133' '10135' '10134']\n",
      "COLUMBIAN CANDLE ROUND: ['72127' '72128' '72130' '72129']\n",
      "PINK FLOCK GLASS CANDLEHOLDER: ['79329' '79331']\n",
      "WATERING CAN PINK BUNNY: ['22432' '22433']\n",
      "FRENCH FLORAL CUSHION COVER: ['20837' '20840']\n"
     ]
    }
   ],
   "source": [
    "print(len(descr))\n",
    "for val in random.sample(descr, 5):\n",
    "    print(f\"{val}: {data[data[\"description\"]==val][\"stockcode\"].unique()}\")"
   ]
  },
  {
   "cell_type": "markdown",
   "metadata": {},
   "source": [
    "##### Here we can see that the stock code and product description don't have a 'one-to-one' relationship due to errors such as typing mistakes and the use of different synonymous words for the same product code. However, we can safely assume that they indeed have a one-to-one relationship and we can drop one of this 2 columns"
   ]
  },
  {
   "cell_type": "markdown",
   "metadata": {},
   "source": [
    "## checking customer and country relationships(if any customer is associated with more than one country)\n",
    "very few customer made purched from more than one contry"
   ]
  },
  {
   "cell_type": "code",
   "execution_count": 204,
   "metadata": {},
   "outputs": [
    {
     "name": "stdout",
     "output_type": "stream",
     "text": [
      "***********************************************************************************************\n",
      "\u001b[1m\u001b[33mChecking relationship for \tcustomerid -to- customerid\u001b[0m\n",
      "***********************************************************************************************\n",
      "\u001b[34m*many-to-many\u001b[0m\n"
     ]
    }
   ],
   "source": [
    "check_relationship_type(data, \"customerid\", \"customerid\")"
   ]
  },
  {
   "cell_type": "code",
   "execution_count": 205,
   "metadata": {},
   "outputs": [
    {
     "name": "stdout",
     "output_type": "stream",
     "text": [
      "**********************************************************************************************\n",
      "\u001b[1m\u001b[33mrechecking relationship for \tcustomerid -to- country\u001b[0m\n",
      "**********************************************************************************************\n"
     ]
    },
    {
     "name": "stderr",
     "output_type": "stream",
     "text": [
      "100%|██████████| 5881/5881 [00:08<00:00, 697.19it/s]"
     ]
    },
    {
     "name": "stdout",
     "output_type": "stream",
     "text": [
      "\u001b[34m*13 'customerid' are related to more than one 'country'\n",
      "[12417.0, 12455.0, 12422.0, 12431.0, 12745.0, 12370.0, 12429.0, 12423.0, 12449.0, 12457.0, 12652.0, 12413.0, 12394.0]\u001b[0m\n"
     ]
    },
    {
     "name": "stderr",
     "output_type": "stream",
     "text": [
      "\n"
     ]
    }
   ],
   "source": [
    "cust_list= recheck_relationship_type(data, \"customerid\", \"country\")"
   ]
  },
  {
   "cell_type": "code",
   "execution_count": 206,
   "metadata": {},
   "outputs": [
    {
     "name": "stdout",
     "output_type": "stream",
     "text": [
      "13\n",
      "12413.0: ['Spain' 'France']\n",
      "12457.0: ['Switzerland' 'Cyprus']\n",
      "12394.0: ['Belgium' 'Denmark']\n",
      "12652.0: ['Germany' 'France']\n",
      "12370.0: ['Austria' 'Cyprus']\n"
     ]
    }
   ],
   "source": [
    "print(len(cust_list))\n",
    "for val in random.sample(cust_list, 5):\n",
    "    print(f\"{val}: {data[data[\"customerid\"]==val][\"country\"].unique()}\")"
   ]
  },
  {
   "cell_type": "code",
   "execution_count": 207,
   "metadata": {},
   "outputs": [],
   "source": [
    "data.drop(columns=['stockcode'], inplace= True)"
   ]
  },
  {
   "cell_type": "markdown",
   "metadata": {},
   "source": [
    "#"
   ]
  },
  {
   "cell_type": "code",
   "execution_count": 208,
   "metadata": {},
   "outputs": [],
   "source": [
    "data['customerid']= data['customerid'].astype(np.int64).astype(\"string\")\n",
    "data['quantity']= data['quantity'].astype(np.int64)\n",
    "data[\"invoicetime\"]= data[\"invoicedate\"].dt.time\n",
    "data[\"invoicedate\"]= data[\"invoicedate\"].dt.date"
   ]
  },
  {
   "cell_type": "markdown",
   "metadata": {},
   "source": [
    "##### cleaning quantity and unitprice\n",
    "##### since we have quantity and unit price, we will calculate the total price "
   ]
  },
  {
   "cell_type": "code",
   "execution_count": 209,
   "metadata": {},
   "outputs": [
    {
     "name": "stdout",
     "output_type": "stream",
     "text": [
      "0\n",
      "0\n"
     ]
    }
   ],
   "source": [
    "print(data[data[\"price\"]<0][\"price\"].count())\n",
    "print(data[data[\"quantity\"]<0][\"quantity\"].count())"
   ]
  },
  {
   "cell_type": "code",
   "execution_count": 210,
   "metadata": {},
   "outputs": [
    {
     "data": {
      "text/html": [
       "<div>\n",
       "<style scoped>\n",
       "    .dataframe tbody tr th:only-of-type {\n",
       "        vertical-align: middle;\n",
       "    }\n",
       "\n",
       "    .dataframe tbody tr th {\n",
       "        vertical-align: top;\n",
       "    }\n",
       "\n",
       "    .dataframe thead th {\n",
       "        text-align: right;\n",
       "    }\n",
       "</style>\n",
       "<table border=\"1\" class=\"dataframe\">\n",
       "  <thead>\n",
       "    <tr style=\"text-align: right;\">\n",
       "      <th></th>\n",
       "      <th>invoice</th>\n",
       "      <th>description</th>\n",
       "      <th>quantity</th>\n",
       "      <th>invoicedate</th>\n",
       "      <th>price</th>\n",
       "      <th>customerid</th>\n",
       "      <th>country</th>\n",
       "      <th>invoicetime</th>\n",
       "      <th>totalprice</th>\n",
       "    </tr>\n",
       "  </thead>\n",
       "  <tbody>\n",
       "    <tr>\n",
       "      <th>318373</th>\n",
       "      <td>520405</td>\n",
       "      <td>RETROSPOT CHILDRENS APRON</td>\n",
       "      <td>4</td>\n",
       "      <td>2010-08-25</td>\n",
       "      <td>1.95</td>\n",
       "      <td>17338</td>\n",
       "      <td>United Kingdom</td>\n",
       "      <td>17:27:00</td>\n",
       "      <td>7.80</td>\n",
       "    </tr>\n",
       "    <tr>\n",
       "      <th>530146</th>\n",
       "      <td>536796</td>\n",
       "      <td>36 PENCILS TUBE RED RETROSPOT</td>\n",
       "      <td>1</td>\n",
       "      <td>2010-12-02</td>\n",
       "      <td>1.25</td>\n",
       "      <td>15574</td>\n",
       "      <td>United Kingdom</td>\n",
       "      <td>15:46:00</td>\n",
       "      <td>1.25</td>\n",
       "    </tr>\n",
       "    <tr>\n",
       "      <th>123248</th>\n",
       "      <td>501146</td>\n",
       "      <td>JUMBO  BAG BAROQUE BLACK WHITE</td>\n",
       "      <td>8</td>\n",
       "      <td>2010-03-14</td>\n",
       "      <td>1.95</td>\n",
       "      <td>13634</td>\n",
       "      <td>United Kingdom</td>\n",
       "      <td>13:08:00</td>\n",
       "      <td>15.60</td>\n",
       "    </tr>\n",
       "  </tbody>\n",
       "</table>\n",
       "</div>"
      ],
      "text/plain": [
       "       invoice                     description  quantity invoicedate  price customerid         country invoicetime  totalprice\n",
       "318373  520405       RETROSPOT CHILDRENS APRON         4  2010-08-25   1.95      17338  United Kingdom    17:27:00        7.80\n",
       "530146  536796   36 PENCILS TUBE RED RETROSPOT         1  2010-12-02   1.25      15574  United Kingdom    15:46:00        1.25\n",
       "123248  501146  JUMBO  BAG BAROQUE BLACK WHITE         8  2010-03-14   1.95      13634  United Kingdom    13:08:00       15.60"
      ]
     },
     "execution_count": 210,
     "metadata": {},
     "output_type": "execute_result"
    }
   ],
   "source": [
    "data[\"totalprice\"]= data[\"quantity\"]* data[\"price\"]\n",
    "data.sample(3)"
   ]
  },
  {
   "cell_type": "code",
   "execution_count": 211,
   "metadata": {},
   "outputs": [
    {
     "name": "stdout",
     "output_type": "stream",
     "text": [
      "before cleaning 0 price iteams:\n",
      "        invoice                     description  quantity invoicedate  price customerid         country invoicetime  totalprice\n",
      "4674     489825                6 RIBBONS EMPIRE        12  2009-12-02    0.0      16126  United Kingdom    13:34:00         0.0\n",
      "6781     489998             DOOR MAT FAIRY CAKE         2  2009-12-03    0.0      15658  United Kingdom    11:19:00         0.0\n",
      "16107    490727                          Manual         1  2009-12-07    0.0      17231  United Kingdom    16:38:00         0.0\n",
      "18738    490961   CHRISTMAS PUDDING TRINKET POT         1  2009-12-08    0.0      14108  United Kingdom    15:25:00         0.0\n",
      "18739    490961     CHRISTMAS CRAFT WHITE FAIRY        12  2009-12-08    0.0      14108  United Kingdom    15:25:00         0.0\n",
      "...         ...                             ...       ...         ...    ...        ...             ...         ...         ...\n",
      "1004540  577129     HANGING METAL HEART LANTERN         4  2011-11-17    0.0      15602  United Kingdom    19:52:00         0.0\n",
      "1005014  577168                          Manual         1  2011-11-18    0.0      12603         Germany    10:42:00         0.0\n",
      "1006110  577314  SET OF 2 TRAYS HOME SWEET HOME         2  2011-11-18    0.0      12444          Norway    13:23:00         0.0\n",
      "1011446  577696                          Manual         1  2011-11-21    0.0      16406  United Kingdom    11:57:00         0.0\n",
      "1027583  578841  ASSTD DESIGN 3D PAPER STICKERS     12540  2011-11-25    0.0      13256  United Kingdom    15:57:00         0.0\n",
      "\n",
      "[71 rows x 9 columns]\n"
     ]
    }
   ],
   "source": [
    "print(f\"before cleaning 0 price iteams:\\n{data[data[\"price\"] ==0]}\")\n",
    "data= data[data[\"price\"] !=0.0]"
   ]
  },
  {
   "cell_type": "code",
   "execution_count": 212,
   "metadata": {},
   "outputs": [
    {
     "name": "stdout",
     "output_type": "stream",
     "text": [
      "row count before removing duplicates:805549\n",
      " row count after removing duplicates:779282\n"
     ]
    }
   ],
   "source": [
    "print(f\"row count before removing duplicates:{len(data)}\")\n",
    "data.drop_duplicates(inplace= True)\n",
    "print(f\" row count after removing duplicates:{len(data)}\")"
   ]
  },
  {
   "cell_type": "markdown",
   "metadata": {},
   "source": [
    "# `Exploratory data analysis (EDA):`"
   ]
  },
  {
   "cell_type": "code",
   "execution_count": 213,
   "metadata": {},
   "outputs": [
    {
     "name": "stdout",
     "output_type": "stream",
     "text": [
      "**********************************************************************************************************\n",
      "\u001b[1m\u001b[33mDescriptive Stats for ['quantity', 'price', 'totalprice'] :\u001b[0m\n",
      "**********************************************************************************************************\n",
      "               count       mean         std    min   25%    50%    75%       max    IQR  lower bound  upper bound\n",
      "quantity    779282.0  13.490720  145.869100  1.000  2.00   6.00  12.00   80995.0  10.00      -13.000       27.000\n",
      "price       779282.0   3.218750   29.678852  0.001  1.25   1.95   3.75   10953.5   2.50       -2.500        7.500\n",
      "totalprice  779282.0  22.294482  227.447832  0.001  4.95  12.48  19.80  168469.6  14.85      -17.325       42.075 \n",
      "\n",
      "\n"
     ]
    },
    {
     "data": {
      "image/png": "[encoded data removed]",
      "text/plain": [
       "<Figure size 1500x1500 with 3 Axes>"
      ]
     },
     "metadata": {},
     "output_type": "display_data"
    },
    {
     "name": "stdout",
     "output_type": "stream",
     "text": [
      "*******************************************************************************************************************\n",
      "\u001b[1m\u001b[33mDescriptive Stats for ['description', 'customerid', 'country'] :\u001b[0m\n",
      "*******************************************************************************************************************\n",
      "              count unique                                 top    freq\n",
      "description  779282   5241  WHITE HANGING HEART T-LIGHT HOLDER    5016\n",
      "customerid   779282   5878                               17841   12429\n",
      "country      779282     41                      United Kingdom  700260 \n",
      "\n",
      "\n"
     ]
    },
    {
     "data": {
      "image/png": "[encoded data removed]",
      "text/plain": [
       "<Figure size 1500x1500 with 3 Axes>"
      ]
     },
     "metadata": {},
     "output_type": "display_data"
    },
    {
     "name": "stdout",
     "output_type": "stream",
     "text": [
      "\n",
      "\n",
      "\n"
     ]
    }
   ],
   "source": [
    "get_descriptive_stats(data, ['quantity', 'price', 'totalprice', 'description', 'customerid', 'country'] )"
   ]
  },
  {
   "cell_type": "markdown",
   "metadata": {},
   "source": [
    "# RFM"
   ]
  },
  {
   "cell_type": "code",
   "execution_count": 219,
   "metadata": {},
   "outputs": [
    {
     "ename": "NameError",
     "evalue": "name 'get_rmf_data_set' is not defined",
     "output_type": "error",
     "traceback": [
      "\u001b[1;31m---------------------------------------------------------------------------\u001b[0m",
      "\u001b[1;31mNameError\u001b[0m                                 Traceback (most recent call last)",
      "Cell \u001b[1;32mIn[219], line 1\u001b[0m\n\u001b[1;32m----> 1\u001b[0m RFM\u001b[38;5;241m=\u001b[39m \u001b[43mget_rmf_data_set\u001b[49m(data)\n",
      "\u001b[1;31mNameError\u001b[0m: name 'get_rmf_data_set' is not defined"
     ]
    }
   ],
   "source": [
    "RFM= get_rmf_data_set(data)"
   ]
  },
  {
   "cell_type": "code",
   "execution_count": 215,
   "metadata": {},
   "outputs": [
    {
     "name": "stdout",
     "output_type": "stream",
     "text": [
      "*************************************************\n",
      "\u001b[1m\u001b[33mdfT score :                \u001b[0m\n",
      "*************************************************\n",
      "\u001b[34m*calculating R,F,M,T score based on quartiles\n",
      "rfm_score= R+F+M\u001b[0m\n",
      "\u001b[34m*rfm_score: Label\n",
      "       > 1: Silver\n",
      "       > 3: Gold\n",
      "       > 5: Platinum\n",
      "       > 9: Diamond\u001b[0m\n",
      "sample:\n",
      "     customerid  recency  frequency  monetary  interpurchase_time  R  F  M  T  rfm_score     label\n",
      "460       12808       36          5    776.70                  85  2  3  2  3          7  Platinum\n",
      "5615      18025      379          6   1177.72                  40  4  3  2  2          9  Platinum\n",
      "1340      13703      318          2    425.56                  48  4  1  1  2          6  Platinum\n",
      "4261      16650       71          7   1916.11                  64  3  3  3  3          9  Platinum\n"
     ]
    }
   ],
   "source": [
    "RFM_with_score= rfm_score_calculate(RFM)"
   ]
  },
  {
   "cell_type": "code",
   "execution_count": 216,
   "metadata": {},
   "outputs": [
    {
     "name": "stdout",
     "output_type": "stream",
     "text": [
      "  Platinum  Diamond  Gold  Silver\n",
      "      2987      648   552      68\n"
     ]
    },
    {
     "data": {
      "image/png": "[encoded data removed]",
      "text/plain": [
       "<Figure size 640x480 with 1 Axes>"
      ]
     },
     "metadata": {},
     "output_type": "display_data"
    }
   ],
   "source": [
    "barplot = dict(RFM_with_score['label'].value_counts())\n",
    "bar_names = list(barplot.keys())\n",
    "bar_values = list(barplot.values())\n",
    "plt.bar(bar_names,bar_values)\n",
    "print(pd.DataFrame(barplot, index=[' ']))"
   ]
  },
  {
   "cell_type": "code",
   "execution_count": null,
   "metadata": {},
   "outputs": [],
   "source": []
  }
 ],
 "metadata": {
  "kernelspec": {
   "display_name": "Python 3",
   "language": "python",
   "name": "python3"
  },
  "language_info": {
   "codemirror_mode": {
    "name": "ipython",
    "version": 3
   },
   "file_extension": ".py",
   "mimetype": "text/x-python",
   "name": "python",
   "nbconvert_exporter": "python",
   "pygments_lexer": "ipython3",
   "version": "3.12.0"
  }
 },
 "nbformat": 4,
 "nbformat_minor": 2
}
