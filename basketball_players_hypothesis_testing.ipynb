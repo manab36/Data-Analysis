{
 "cells": [
  {
   "cell_type": "code",
   "execution_count": 2,
   "metadata": {},
   "outputs": [],
   "source": [
    "import requests\n",
    "from bs4 import BeautifulSoup\n",
    "import pandas as pd\n",
    "import time\n",
    "import tqdm\n",
    "from pandas.errors import SettingWithCopyWarning\n",
    "import warnings\n",
    "warnings.simplefilter(action=\"ignore\", category=SettingWithCopyWarning)\n",
    "from include.beauti_print import *"
   ]
  },
  {
   "cell_type": "markdown",
   "metadata": {},
   "source": [
    "<div class=\"center_header\">\n",
    "\n",
    "# Dataset building\n",
    "\n",
    "</div>\n",
    "<p>\n",
    "I have collected the required data for the project from two website.\n",
    "\n",
    "1. __[the sports db](https://www.thesportsdb.com/free_sports_api)__\n",
    "1. __[number fire](https://www.numberfire.com)__\n",
    "\n",
    "</p>\n",
    "\n",
    "<h5 style=\"margin: 0px; padding: 0px;\">the sports db:</h5>\n",
    "\n",
    "\n",
    "\n",
    "you can download the dataset from __[here](dataset\\basketball_players.csv)__\n",
    "\n",
    "<style>\n",
    "  .center_header {\n",
    "  line-height: 90px;\n",
    "  height: 90px;\n",
    "  border: 5px solid blue;\n",
    "  text-align: center;\n",
    "  font-size: xx-large;\n",
    "  }\n",
    "</style>"
   ]
  },
  {
   "cell_type": "code",
   "execution_count": null,
   "metadata": {},
   "outputs": [],
   "source": []
  }
 ],
 "metadata": {
  "kernelspec": {
   "display_name": "Python 3",
   "language": "python",
   "name": "python3"
  },
  "language_info": {
   "codemirror_mode": {
    "name": "ipython",
    "version": 3
   },
   "file_extension": ".py",
   "mimetype": "text/x-python",
   "name": "python",
   "nbconvert_exporter": "python",
   "pygments_lexer": "ipython3",
   "version": "3.12.0"
  }
 },
 "nbformat": 4,
 "nbformat_minor": 2
}
